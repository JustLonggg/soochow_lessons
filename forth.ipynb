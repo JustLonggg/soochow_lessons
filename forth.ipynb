{
 "cells": [
  {
   "cell_type": "code",
   "execution_count": 1,
   "metadata": {},
   "outputs": [
    {
     "data": {
      "text/plain": [
       "array([[0, 1, 2, 3, 4],\n",
       "       [5, 6, 7, 8, 9]])"
      ]
     },
     "execution_count": 1,
     "metadata": {},
     "output_type": "execute_result"
    }
   ],
   "source": [
    "import numpy as np\n",
    "np.arange(10).reshape((2, 5))"
   ]
  },
  {
   "cell_type": "code",
   "execution_count": 3,
   "metadata": {},
   "outputs": [
    {
     "data": {
      "text/plain": [
       "array([[0],\n",
       "       [1],\n",
       "       [2],\n",
       "       [3],\n",
       "       [4],\n",
       "       [5],\n",
       "       [6],\n",
       "       [7],\n",
       "       [8],\n",
       "       [9]])"
      ]
     },
     "execution_count": 3,
     "metadata": {},
     "output_type": "execute_result"
    }
   ],
   "source": [
    "a = np.arange(10)\n",
    "c = np.reshape(a, (-2, 1))\n",
    "c"
   ]
  },
  {
   "cell_type": "code",
   "execution_count": 4,
   "metadata": {},
   "outputs": [
    {
     "data": {
      "text/plain": [
       "(10,)"
      ]
     },
     "execution_count": 4,
     "metadata": {},
     "output_type": "execute_result"
    }
   ],
   "source": [
    "a.shape"
   ]
  },
  {
   "cell_type": "code",
   "execution_count": 5,
   "metadata": {},
   "outputs": [
    {
     "data": {
      "text/plain": [
       "array([[0, 1, 2, 3, 4],\n",
       "       [5, 6, 7, 8, 9]])"
      ]
     },
     "execution_count": 5,
     "metadata": {},
     "output_type": "execute_result"
    }
   ],
   "source": [
    "a.shape = (2, 5)\n",
    "a"
   ]
  },
  {
   "cell_type": "code",
   "execution_count": 6,
   "metadata": {},
   "outputs": [
    {
     "data": {
      "text/plain": [
       "array([[0, 1, 2, 3, 4],\n",
       "       [5, 6, 7, 8, 9]])"
      ]
     },
     "execution_count": 6,
     "metadata": {},
     "output_type": "execute_result"
    }
   ],
   "source": [
    "a"
   ]
  },
  {
   "cell_type": "code",
   "execution_count": 7,
   "metadata": {},
   "outputs": [
    {
     "data": {
      "text/plain": [
       "array([[0],\n",
       "       [1],\n",
       "       [2],\n",
       "       [3],\n",
       "       [4],\n",
       "       [5],\n",
       "       [6],\n",
       "       [7],\n",
       "       [8],\n",
       "       [9]])"
      ]
     },
     "execution_count": 7,
     "metadata": {},
     "output_type": "execute_result"
    }
   ],
   "source": [
    "c"
   ]
  },
  {
   "cell_type": "code",
   "execution_count": 8,
   "metadata": {},
   "outputs": [
    {
     "data": {
      "text/plain": [
       "array([0, 1, 2, 3, 4, 5, 6, 7, 8, 9])"
      ]
     },
     "execution_count": 8,
     "metadata": {},
     "output_type": "execute_result"
    }
   ],
   "source": [
    "p = c.flatten()\n",
    "p"
   ]
  },
  {
   "cell_type": "code",
   "execution_count": 9,
   "metadata": {},
   "outputs": [],
   "source": [
    "np.newaxis?"
   ]
  },
  {
   "cell_type": "code",
   "execution_count": 11,
   "metadata": {},
   "outputs": [
    {
     "data": {
      "text/plain": [
       "array([[0],\n",
       "       [1],\n",
       "       [2],\n",
       "       [3],\n",
       "       [4]])"
      ]
     },
     "execution_count": 11,
     "metadata": {},
     "output_type": "execute_result"
    }
   ],
   "source": [
    "data = np.arange(0, 5)\n",
    "c = data[:, np.newaxis]\n",
    "c"
   ]
  },
  {
   "cell_type": "code",
   "execution_count": 12,
   "metadata": {},
   "outputs": [
    {
     "data": {
      "text/plain": [
       "array([0, 1, 2, 3, 4])"
      ]
     },
     "execution_count": 12,
     "metadata": {},
     "output_type": "execute_result"
    }
   ],
   "source": [
    "data"
   ]
  },
  {
   "cell_type": "code",
   "execution_count": 13,
   "metadata": {},
   "outputs": [],
   "source": [
    "a = np.arange(9).reshape((3,3))\n",
    "b = np.arange(12).reshape((3,4))\n",
    "c = np.arange(15).reshape((3,5))"
   ]
  },
  {
   "cell_type": "code",
   "execution_count": 14,
   "metadata": {},
   "outputs": [
    {
     "data": {
      "text/plain": [
       "array([[0, 1, 2],\n",
       "       [3, 4, 5],\n",
       "       [6, 7, 8]])"
      ]
     },
     "execution_count": 14,
     "metadata": {},
     "output_type": "execute_result"
    }
   ],
   "source": [
    "a"
   ]
  },
  {
   "cell_type": "code",
   "execution_count": 15,
   "metadata": {},
   "outputs": [
    {
     "data": {
      "text/plain": [
       "array([[ 0,  1,  2,  3],\n",
       "       [ 4,  5,  6,  7],\n",
       "       [ 8,  9, 10, 11]])"
      ]
     },
     "execution_count": 15,
     "metadata": {},
     "output_type": "execute_result"
    }
   ],
   "source": [
    "b"
   ]
  },
  {
   "cell_type": "code",
   "execution_count": 16,
   "metadata": {},
   "outputs": [
    {
     "data": {
      "text/plain": [
       "array([[ 0,  1,  2,  3,  4],\n",
       "       [ 5,  6,  7,  8,  9],\n",
       "       [10, 11, 12, 13, 14]])"
      ]
     },
     "execution_count": 16,
     "metadata": {},
     "output_type": "execute_result"
    }
   ],
   "source": [
    "c"
   ]
  },
  {
   "cell_type": "code",
   "execution_count": 17,
   "metadata": {},
   "outputs": [
    {
     "data": {
      "text/plain": [
       "array([[ 0,  1,  2,  0,  1,  2,  3],\n",
       "       [ 3,  4,  5,  4,  5,  6,  7],\n",
       "       [ 6,  7,  8,  8,  9, 10, 11]])"
      ]
     },
     "execution_count": 17,
     "metadata": {},
     "output_type": "execute_result"
    }
   ],
   "source": [
    "np.hstack((a, b))"
   ]
  },
  {
   "cell_type": "code",
   "execution_count": 18,
   "metadata": {},
   "outputs": [],
   "source": [
    "np.stack?"
   ]
  },
  {
   "cell_type": "code",
   "execution_count": 19,
   "metadata": {},
   "outputs": [
    {
     "ename": "ValueError",
     "evalue": "all input arrays must have the same shape",
     "output_type": "error",
     "traceback": [
      "\u001b[0;31m-----------------------------------------------------------------------\u001b[0m",
      "\u001b[0;31mValueError\u001b[0m                            Traceback (most recent call last)",
      "\u001b[0;32m<ipython-input-19-98fcdad5255a>\u001b[0m in \u001b[0;36m<module>\u001b[0;34m\u001b[0m\n\u001b[0;32m----> 1\u001b[0;31m \u001b[0mnp\u001b[0m\u001b[0;34m.\u001b[0m\u001b[0mstack\u001b[0m\u001b[0;34m(\u001b[0m\u001b[0;34m(\u001b[0m\u001b[0ma\u001b[0m\u001b[0;34m,\u001b[0m\u001b[0mb\u001b[0m\u001b[0;34m)\u001b[0m\u001b[0;34m)\u001b[0m\u001b[0;34m\u001b[0m\u001b[0;34m\u001b[0m\u001b[0m\n\u001b[0m",
      "\u001b[0;32m/Library/Frameworks/Python.framework/Versions/3.7/lib/python3.7/site-packages/numpy/core/shape_base.py\u001b[0m in \u001b[0;36mstack\u001b[0;34m(arrays, axis, out)\u001b[0m\n\u001b[1;32m    351\u001b[0m     \u001b[0mshapes\u001b[0m \u001b[0;34m=\u001b[0m \u001b[0mset\u001b[0m\u001b[0;34m(\u001b[0m\u001b[0marr\u001b[0m\u001b[0;34m.\u001b[0m\u001b[0mshape\u001b[0m \u001b[0;32mfor\u001b[0m \u001b[0marr\u001b[0m \u001b[0;32min\u001b[0m \u001b[0marrays\u001b[0m\u001b[0;34m)\u001b[0m\u001b[0;34m\u001b[0m\u001b[0;34m\u001b[0m\u001b[0m\n\u001b[1;32m    352\u001b[0m     \u001b[0;32mif\u001b[0m \u001b[0mlen\u001b[0m\u001b[0;34m(\u001b[0m\u001b[0mshapes\u001b[0m\u001b[0;34m)\u001b[0m \u001b[0;34m!=\u001b[0m \u001b[0;36m1\u001b[0m\u001b[0;34m:\u001b[0m\u001b[0;34m\u001b[0m\u001b[0;34m\u001b[0m\u001b[0m\n\u001b[0;32m--> 353\u001b[0;31m         \u001b[0;32mraise\u001b[0m \u001b[0mValueError\u001b[0m\u001b[0;34m(\u001b[0m\u001b[0;34m'all input arrays must have the same shape'\u001b[0m\u001b[0;34m)\u001b[0m\u001b[0;34m\u001b[0m\u001b[0;34m\u001b[0m\u001b[0m\n\u001b[0m\u001b[1;32m    354\u001b[0m \u001b[0;34m\u001b[0m\u001b[0m\n\u001b[1;32m    355\u001b[0m     \u001b[0mresult_ndim\u001b[0m \u001b[0;34m=\u001b[0m \u001b[0marrays\u001b[0m\u001b[0;34m[\u001b[0m\u001b[0;36m0\u001b[0m\u001b[0;34m]\u001b[0m\u001b[0;34m.\u001b[0m\u001b[0mndim\u001b[0m \u001b[0;34m+\u001b[0m \u001b[0;36m1\u001b[0m\u001b[0;34m\u001b[0m\u001b[0;34m\u001b[0m\u001b[0m\n",
      "\u001b[0;31mValueError\u001b[0m: all input arrays must have the same shape"
     ]
    }
   ],
   "source": [
    "np.stack((a,b))"
   ]
  },
  {
   "cell_type": "code",
   "execution_count": 22,
   "metadata": {},
   "outputs": [
    {
     "ename": "ValueError",
     "evalue": "all the input array dimensions except for the concatenation axis must match exactly",
     "output_type": "error",
     "traceback": [
      "\u001b[0;31m-----------------------------------------------------------------------\u001b[0m",
      "\u001b[0;31mValueError\u001b[0m                            Traceback (most recent call last)",
      "\u001b[0;32m<ipython-input-22-0ed2f549f1e6>\u001b[0m in \u001b[0;36m<module>\u001b[0;34m\u001b[0m\n\u001b[0;32m----> 1\u001b[0;31m \u001b[0mnp\u001b[0m\u001b[0;34m.\u001b[0m\u001b[0mconcatenate\u001b[0m\u001b[0;34m(\u001b[0m\u001b[0;34m(\u001b[0m\u001b[0ma\u001b[0m\u001b[0;34m,\u001b[0m \u001b[0mb\u001b[0m\u001b[0;34m)\u001b[0m\u001b[0;34m,\u001b[0m \u001b[0maxis\u001b[0m\u001b[0;34m=\u001b[0m\u001b[0;36m0\u001b[0m\u001b[0;34m)\u001b[0m\u001b[0;34m\u001b[0m\u001b[0;34m\u001b[0m\u001b[0m\n\u001b[0m",
      "\u001b[0;31mValueError\u001b[0m: all the input array dimensions except for the concatenation axis must match exactly"
     ]
    }
   ],
   "source": [
    "np.concatenate((a, b), axis=0)"
   ]
  },
  {
   "cell_type": "code",
   "execution_count": 23,
   "metadata": {},
   "outputs": [
    {
     "data": {
      "text/plain": [
       "array([[ 0,  4,  8],\n",
       "       [ 1,  5,  9],\n",
       "       [ 2,  6, 10],\n",
       "       [ 3,  7, 11]])"
      ]
     },
     "execution_count": 23,
     "metadata": {},
     "output_type": "execute_result"
    }
   ],
   "source": [
    "b.T"
   ]
  },
  {
   "cell_type": "code",
   "execution_count": 24,
   "metadata": {},
   "outputs": [
    {
     "data": {
      "text/plain": [
       "array([[ 0,  1,  2],\n",
       "       [ 3,  4,  5],\n",
       "       [ 6,  7,  8],\n",
       "       [ 0,  4,  8],\n",
       "       [ 1,  5,  9],\n",
       "       [ 2,  6, 10],\n",
       "       [ 3,  7, 11]])"
      ]
     },
     "execution_count": 24,
     "metadata": {},
     "output_type": "execute_result"
    }
   ],
   "source": [
    "np.vstack((a, b.T))"
   ]
  },
  {
   "cell_type": "code",
   "execution_count": 25,
   "metadata": {},
   "outputs": [
    {
     "data": {
      "text/plain": [
       "array([[ 0,  1,  2,  3,  4,  5],\n",
       "       [ 6,  7,  8,  9, 10, 11],\n",
       "       [12, 13, 14, 15, 16, 17],\n",
       "       [18, 19, 20, 21, 22, 23]])"
      ]
     },
     "execution_count": 25,
     "metadata": {},
     "output_type": "execute_result"
    }
   ],
   "source": [
    "a = np.arange(24).reshape(4,6)\n",
    "a"
   ]
  },
  {
   "cell_type": "code",
   "execution_count": 26,
   "metadata": {},
   "outputs": [
    {
     "data": {
      "text/plain": [
       "[array([[ 0,  1,  2],\n",
       "        [ 6,  7,  8],\n",
       "        [12, 13, 14],\n",
       "        [18, 19, 20]]), array([[ 3,  4,  5],\n",
       "        [ 9, 10, 11],\n",
       "        [15, 16, 17],\n",
       "        [21, 22, 23]])]"
      ]
     },
     "execution_count": 26,
     "metadata": {},
     "output_type": "execute_result"
    }
   ],
   "source": [
    "np.split(a, 2, axis=1)"
   ]
  },
  {
   "cell_type": "code",
   "execution_count": 30,
   "metadata": {},
   "outputs": [
    {
     "data": {
      "text/plain": [
       "array([[1, 2, 3],\n",
       "       [4, 5, 6]])"
      ]
     },
     "execution_count": 30,
     "metadata": {},
     "output_type": "execute_result"
    }
   ],
   "source": [
    "a = np.array([[1,2,3],[4,5,6]])\n",
    "b = np.array([[7,8,9]])\n",
    "a"
   ]
  },
  {
   "cell_type": "code",
   "execution_count": 28,
   "metadata": {},
   "outputs": [
    {
     "data": {
      "text/plain": [
       "array([[7, 8, 9]])"
      ]
     },
     "execution_count": 28,
     "metadata": {},
     "output_type": "execute_result"
    }
   ],
   "source": [
    "b"
   ]
  },
  {
   "cell_type": "code",
   "execution_count": 31,
   "metadata": {},
   "outputs": [],
   "source": [
    "r = np.append(a, b, axis=0)"
   ]
  },
  {
   "cell_type": "code",
   "execution_count": 32,
   "metadata": {},
   "outputs": [
    {
     "data": {
      "text/plain": [
       "array([[1, 2, 3],\n",
       "       [4, 5, 6],\n",
       "       [7, 8, 9]])"
      ]
     },
     "execution_count": 32,
     "metadata": {},
     "output_type": "execute_result"
    }
   ],
   "source": [
    "r"
   ]
  },
  {
   "cell_type": "code",
   "execution_count": 33,
   "metadata": {},
   "outputs": [
    {
     "data": {
      "text/plain": [
       "array([1, 2, 3, 4, 5, 6, 7, 8, 9])"
      ]
     },
     "execution_count": 33,
     "metadata": {},
     "output_type": "execute_result"
    }
   ],
   "source": [
    "np.append(a, b)"
   ]
  },
  {
   "cell_type": "markdown",
   "metadata": {},
   "source": [
    "np.insert, np.delete, np.flatten, np.append"
   ]
  },
  {
   "cell_type": "code",
   "execution_count": 36,
   "metadata": {},
   "outputs": [
    {
     "data": {
      "text/plain": [
       "array([[0, 1, 2, 3, 4],\n",
       "       [5, 6, 7, 8, 9]])"
      ]
     },
     "execution_count": 36,
     "metadata": {},
     "output_type": "execute_result"
    }
   ],
   "source": [
    "a = np.arange(10).reshape(2,5)\n",
    "a"
   ]
  },
  {
   "cell_type": "code",
   "execution_count": 37,
   "metadata": {},
   "outputs": [
    {
     "data": {
      "text/plain": [
       "array([[10, 11, 12, 13, 14],\n",
       "       [15, 16, 17, 18, 19]])"
      ]
     },
     "execution_count": 37,
     "metadata": {},
     "output_type": "execute_result"
    }
   ],
   "source": [
    "b = a + 10  #a - 10, a / 10\n",
    "b"
   ]
  },
  {
   "cell_type": "code",
   "execution_count": 38,
   "metadata": {},
   "outputs": [
    {
     "data": {
      "text/plain": [
       "array([[0, 1, 2, 3, 4],\n",
       "       [5, 6, 7, 8, 9]])"
      ]
     },
     "execution_count": 38,
     "metadata": {},
     "output_type": "execute_result"
    }
   ],
   "source": [
    "a"
   ]
  },
  {
   "cell_type": "code",
   "execution_count": 39,
   "metadata": {},
   "outputs": [
    {
     "data": {
      "text/plain": [
       "array([[10, 11, 12, 13, 14],\n",
       "       [15, 16, 17, 18, 19]])"
      ]
     },
     "execution_count": 39,
     "metadata": {},
     "output_type": "execute_result"
    }
   ],
   "source": [
    "b"
   ]
  },
  {
   "cell_type": "code",
   "execution_count": 40,
   "metadata": {},
   "outputs": [
    {
     "data": {
      "text/plain": [
       "array([[10, 12, 14, 16, 18],\n",
       "       [20, 22, 24, 26, 28]])"
      ]
     },
     "execution_count": 40,
     "metadata": {},
     "output_type": "execute_result"
    }
   ],
   "source": [
    "a + b"
   ]
  },
  {
   "cell_type": "code",
   "execution_count": 41,
   "metadata": {},
   "outputs": [
    {
     "data": {
      "text/plain": [
       "array([[-10, -10, -10, -10, -10],\n",
       "       [-10, -10, -10, -10, -10]])"
      ]
     },
     "execution_count": 41,
     "metadata": {},
     "output_type": "execute_result"
    }
   ],
   "source": [
    "a - b"
   ]
  },
  {
   "cell_type": "code",
   "execution_count": 42,
   "metadata": {},
   "outputs": [
    {
     "data": {
      "text/plain": [
       "array([[0.        , 0.09090909, 0.16666667, 0.23076923, 0.28571429],\n",
       "       [0.33333333, 0.375     , 0.41176471, 0.44444444, 0.47368421]])"
      ]
     },
     "execution_count": 42,
     "metadata": {},
     "output_type": "execute_result"
    }
   ],
   "source": [
    "a / b"
   ]
  },
  {
   "cell_type": "code",
   "execution_count": 43,
   "metadata": {},
   "outputs": [
    {
     "data": {
      "text/plain": [
       "array([[  0,  11,  24,  39,  56],\n",
       "       [ 75,  96, 119, 144, 171]])"
      ]
     },
     "execution_count": 43,
     "metadata": {},
     "output_type": "execute_result"
    }
   ],
   "source": [
    "a * b"
   ]
  },
  {
   "cell_type": "code",
   "execution_count": 44,
   "metadata": {},
   "outputs": [
    {
     "data": {
      "text/plain": [
       "array([[0, 1, 2, 3, 4],\n",
       "       [5, 6, 7, 8, 9]])"
      ]
     },
     "execution_count": 44,
     "metadata": {},
     "output_type": "execute_result"
    }
   ],
   "source": [
    "a"
   ]
  },
  {
   "cell_type": "code",
   "execution_count": 45,
   "metadata": {},
   "outputs": [
    {
     "data": {
      "text/plain": [
       "array([[10, 11, 12, 13, 14],\n",
       "       [15, 16, 17, 18, 19]])"
      ]
     },
     "execution_count": 45,
     "metadata": {},
     "output_type": "execute_result"
    }
   ],
   "source": [
    "b"
   ]
  },
  {
   "cell_type": "code",
   "execution_count": 46,
   "metadata": {},
   "outputs": [
    {
     "data": {
      "text/plain": [
       "array([[0, 1, 2, 3, 4],\n",
       "       [5, 6, 7, 8, 9]])"
      ]
     },
     "execution_count": 46,
     "metadata": {},
     "output_type": "execute_result"
    }
   ],
   "source": [
    "a"
   ]
  },
  {
   "cell_type": "code",
   "execution_count": 47,
   "metadata": {},
   "outputs": [
    {
     "data": {
      "text/plain": [
       "array([0, 1, 2, 3, 4])"
      ]
     },
     "execution_count": 47,
     "metadata": {},
     "output_type": "execute_result"
    }
   ],
   "source": [
    "m = np.arange(5)\n",
    "m"
   ]
  },
  {
   "cell_type": "code",
   "execution_count": 48,
   "metadata": {},
   "outputs": [
    {
     "data": {
      "text/plain": [
       "array([[ 0,  2,  4,  6,  8],\n",
       "       [ 5,  7,  9, 11, 13]])"
      ]
     },
     "execution_count": 48,
     "metadata": {},
     "output_type": "execute_result"
    }
   ],
   "source": [
    "a + m"
   ]
  },
  {
   "cell_type": "code",
   "execution_count": 49,
   "metadata": {},
   "outputs": [
    {
     "data": {
      "text/plain": [
       "array([[1],\n",
       "       [2]])"
      ]
     },
     "execution_count": 49,
     "metadata": {},
     "output_type": "execute_result"
    }
   ],
   "source": [
    "n = np.arange(1, 3).reshape((-1, 1))\n",
    "n"
   ]
  },
  {
   "cell_type": "code",
   "execution_count": 50,
   "metadata": {},
   "outputs": [
    {
     "data": {
      "text/plain": [
       "array([[ 1,  2,  3,  4,  5],\n",
       "       [ 7,  8,  9, 10, 11]])"
      ]
     },
     "execution_count": 50,
     "metadata": {},
     "output_type": "execute_result"
    }
   ],
   "source": [
    "a + n"
   ]
  },
  {
   "cell_type": "code",
   "execution_count": 52,
   "metadata": {},
   "outputs": [
    {
     "data": {
      "text/plain": [
       "array([False, False,  True])"
      ]
     },
     "execution_count": 52,
     "metadata": {},
     "output_type": "execute_result"
    }
   ],
   "source": [
    "np.array([6, 3, 4]) > np.array([9, 5, 1])"
   ]
  },
  {
   "cell_type": "code",
   "execution_count": null,
   "metadata": {},
   "outputs": [],
   "source": [
    "a = np.array([3, 6, 9])\n",
    "b = np.array([4, 5,8])\n",
    "a < b and a > b"
   ]
  },
  {
   "cell_type": "markdown",
   "metadata": {},
   "source": [
    "np.logical_and, np.logic_or, logical_not, logical_xor"
   ]
  },
  {
   "cell_type": "code",
   "execution_count": 53,
   "metadata": {},
   "outputs": [
    {
     "data": {
      "text/plain": [
       "array([-0.  , -0.59, -0.95, -0.95, -0.59,  0.  ,  0.59,  0.95,  0.95,\n",
       "        0.59,  0.  ])"
      ]
     },
     "execution_count": 53,
     "metadata": {},
     "output_type": "execute_result"
    }
   ],
   "source": [
    "alpha = np.linspace(-1, 1, 11)\n",
    "y = np.sin(np.pi * alpha)\n",
    "np.round(y, decimals = 2)"
   ]
  },
  {
   "cell_type": "code",
   "execution_count": 54,
   "metadata": {},
   "outputs": [
    {
     "data": {
      "text/plain": [
       "1"
      ]
     },
     "execution_count": 54,
     "metadata": {},
     "output_type": "execute_result"
    }
   ],
   "source": [
    "def bmi(h, w):\n",
    "    bmi_index = w / h ** 2\n",
    "    if bmi_index > 18 and bmi_index < 25:\n",
    "        return 0\n",
    "    elif bmi_index <= 18:\n",
    "        return -1\n",
    "    else:\n",
    "        return 1\n",
    "\n",
    "bmi(1.7, 100)"
   ]
  },
  {
   "cell_type": "code",
   "execution_count": 55,
   "metadata": {},
   "outputs": [],
   "source": [
    "h = (2.2 - 1.4) * np.random.random_sample((10,)) + 1.4\n",
    "h = np.round(h, 2)\n",
    "w = (96 - 30)* np.random.random_sample((10,)) + 30\n",
    "w = np.round(w, 2)"
   ]
  },
  {
   "cell_type": "code",
   "execution_count": 56,
   "metadata": {},
   "outputs": [
    {
     "ename": "ValueError",
     "evalue": "The truth value of an array with more than one element is ambiguous. Use a.any() or a.all()",
     "output_type": "error",
     "traceback": [
      "\u001b[0;31m-----------------------------------------------------------------------\u001b[0m",
      "\u001b[0;31mValueError\u001b[0m                            Traceback (most recent call last)",
      "\u001b[0;32m<ipython-input-56-d6a4fbeebb83>\u001b[0m in \u001b[0;36m<module>\u001b[0;34m\u001b[0m\n\u001b[0;32m----> 1\u001b[0;31m \u001b[0mbmi\u001b[0m\u001b[0;34m(\u001b[0m\u001b[0mh\u001b[0m\u001b[0;34m,\u001b[0m \u001b[0mw\u001b[0m\u001b[0;34m)\u001b[0m\u001b[0;34m\u001b[0m\u001b[0;34m\u001b[0m\u001b[0m\n\u001b[0m",
      "\u001b[0;32m<ipython-input-54-8c598d4f81c7>\u001b[0m in \u001b[0;36mbmi\u001b[0;34m(h, w)\u001b[0m\n\u001b[1;32m      1\u001b[0m \u001b[0;32mdef\u001b[0m \u001b[0mbmi\u001b[0m\u001b[0;34m(\u001b[0m\u001b[0mh\u001b[0m\u001b[0;34m,\u001b[0m \u001b[0mw\u001b[0m\u001b[0;34m)\u001b[0m\u001b[0;34m:\u001b[0m\u001b[0;34m\u001b[0m\u001b[0;34m\u001b[0m\u001b[0m\n\u001b[1;32m      2\u001b[0m     \u001b[0mbmi_index\u001b[0m \u001b[0;34m=\u001b[0m \u001b[0mw\u001b[0m \u001b[0;34m/\u001b[0m \u001b[0mh\u001b[0m \u001b[0;34m**\u001b[0m \u001b[0;36m2\u001b[0m\u001b[0;34m\u001b[0m\u001b[0;34m\u001b[0m\u001b[0m\n\u001b[0;32m----> 3\u001b[0;31m     \u001b[0;32mif\u001b[0m \u001b[0mbmi_index\u001b[0m \u001b[0;34m>\u001b[0m \u001b[0;36m18\u001b[0m \u001b[0;32mand\u001b[0m \u001b[0mbmi_index\u001b[0m \u001b[0;34m<\u001b[0m \u001b[0;36m25\u001b[0m\u001b[0;34m:\u001b[0m\u001b[0;34m\u001b[0m\u001b[0;34m\u001b[0m\u001b[0m\n\u001b[0m\u001b[1;32m      4\u001b[0m         \u001b[0;32mreturn\u001b[0m \u001b[0;36m0\u001b[0m\u001b[0;34m\u001b[0m\u001b[0;34m\u001b[0m\u001b[0m\n\u001b[1;32m      5\u001b[0m     \u001b[0;32melif\u001b[0m \u001b[0mbmi_index\u001b[0m \u001b[0;34m<=\u001b[0m \u001b[0;36m18\u001b[0m\u001b[0;34m:\u001b[0m\u001b[0;34m\u001b[0m\u001b[0;34m\u001b[0m\u001b[0m\n",
      "\u001b[0;31mValueError\u001b[0m: The truth value of an array with more than one element is ambiguous. Use a.any() or a.all()"
     ]
    }
   ],
   "source": [
    "bmi(h, w)"
   ]
  },
  {
   "cell_type": "code",
   "execution_count": 57,
   "metadata": {},
   "outputs": [],
   "source": [
    "bmi_ufunc = np.frompyfunc(bmi, 2, 1)"
   ]
  },
  {
   "cell_type": "code",
   "execution_count": 58,
   "metadata": {},
   "outputs": [
    {
     "data": {
      "text/plain": [
       "array([-1, 1, 0, -1, -1, -1, 0, 1, -1, -1], dtype=object)"
      ]
     },
     "execution_count": 58,
     "metadata": {},
     "output_type": "execute_result"
    }
   ],
   "source": [
    "bmi_ufunc(h, w)"
   ]
  },
  {
   "cell_type": "code",
   "execution_count": 59,
   "metadata": {},
   "outputs": [
    {
     "data": {
      "text/plain": [
       "array([1, 1, 4, 27, 256, 3125, 46656, 823543, 16777216, 387420489],\n",
       "      dtype=object)"
      ]
     },
     "execution_count": 59,
     "metadata": {},
     "output_type": "execute_result"
    }
   ],
   "source": [
    "pow_ufunc = np.frompyfunc(pow, 2, 1)\n",
    "a = np.arange(10)\n",
    "pow_ufunc(a, a)"
   ]
  },
  {
   "cell_type": "code",
   "execution_count": 60,
   "metadata": {},
   "outputs": [
    {
     "data": {
      "text/plain": [
       "array([0, 1, 2, 3, 4, 5, 6, 7, 8, 9])"
      ]
     },
     "execution_count": 60,
     "metadata": {},
     "output_type": "execute_result"
    }
   ],
   "source": [
    "a"
   ]
  },
  {
   "cell_type": "markdown",
   "metadata": {},
   "source": [
    "np.vectorize"
   ]
  },
  {
   "cell_type": "code",
   "execution_count": 61,
   "metadata": {},
   "outputs": [],
   "source": [
    "mu, sigma = 0.0, 1.0\n",
    "g = np.random.normal(loc=mu, scale=sigma, size=1000)\n",
    "#np.random.randn(1000)"
   ]
  },
  {
   "cell_type": "code",
   "execution_count": 62,
   "metadata": {},
   "outputs": [],
   "source": [
    "g1 = np.random.randn(1000)"
   ]
  },
  {
   "cell_type": "code",
   "execution_count": 63,
   "metadata": {},
   "outputs": [],
   "source": [
    "g = (g - g.min()) / 10\n",
    "phy = np.round(((100.1 - 20) * g + 20), 1)\n",
    "g1 = (g1 - g1.min()) / 10\n",
    "mat = np.round(((100.1 - 20) * g1 + 20), 1)"
   ]
  },
  {
   "cell_type": "code",
   "execution_count": 64,
   "metadata": {},
   "outputs": [
    {
     "data": {
      "text/plain": [
       "array([46.2, 55. , 33.8, 56. , 41.9, 33.3, 45.3, 46. , 44.8, 31.8, 42.9,\n",
       "       38. , 33.4, 30.9, 41.6, 46.7, 43.6, 37.7, 40.4, 53.1, 50.9, 40.9,\n",
       "       46.5, 42.3, 37.4, 51. , 36.3, 43.3, 57.8, 30.7, 52.3, 39.5, 39.6,\n",
       "       37.6, 43.6, 53.3, 51.1, 49.8, 45.4, 34.6, 38.9, 40.1, 54.1, 49.6,\n",
       "       42. , 55.2, 48.7, 28.4, 57. , 35.5, 47.8, 43.3, 39.2, 50.8, 44.7,\n",
       "       60.7, 30.6, 59. , 52.3, 38.3, 41.8, 59.1, 39.3, 33.6, 46.3, 47.6,\n",
       "       40.6, 35.9, 51.5, 39.7, 41.1, 49.6, 48.4, 39.5, 50.3, 33.6, 54.3,\n",
       "       55. , 39.3, 57.4, 52. , 42.7, 45.3, 47.4, 46.4, 42.9, 33.3, 47.2,\n",
       "       47.9, 73.6, 52.2, 53.7, 46.1, 46.5, 46.4, 66.1, 41.3, 40.3, 47.3,\n",
       "       54.5, 52.2, 47.1, 39.8, 50.9, 44.4, 33.3, 28. , 38.1, 51.4, 36.6,\n",
       "       32.8, 30.3, 41.8, 41.5, 35.7, 42.3, 49.2, 37.8, 29.4, 45.8, 32.3,\n",
       "       31.8, 57.1, 40.4, 43.6, 45.9, 43.1, 30.2, 54.3, 39. , 53.6, 48.8,\n",
       "       38. , 47.6, 43.1, 40.4, 27.8, 48.2, 55. , 31.7, 32.5, 29.9, 50.9,\n",
       "       23. , 35.5, 39.2, 49.8, 46.1, 52.3, 43.3, 40. , 52.1, 49.7, 45.3,\n",
       "       52.7, 43.3, 46.5, 46.8, 32.7, 45.7, 48.5, 39.8, 48.7, 46.5, 40.6,\n",
       "       44.6, 45.7, 39.9, 47.1, 44.2, 29.4, 47.7, 34.5, 35.1, 44.7, 42.5,\n",
       "       51.8, 43.4, 54.2, 51.1, 51.5, 58.5, 36.9, 43.2, 40.4, 46.3, 34.7,\n",
       "       27.2, 42.6, 57. , 37.3, 41.2, 50.5, 35.2, 48.1, 42.3, 51.4, 41.7,\n",
       "       45.6, 45.3, 53.2, 45.5, 30.1, 36.7, 31.6, 36.7, 44.9, 48.2, 35.4,\n",
       "       49.2, 41.4, 47.3, 49.4, 57.9, 40.9, 40.3, 59.4, 49.3, 43.6, 51. ,\n",
       "       59.2, 29.9, 51.8, 51.2, 60.6, 46.8, 51.4, 41.7, 48.7, 39.7, 39.5,\n",
       "       34.1, 50.9, 53.5, 51.5, 46.6, 37.8, 48.2, 36.3, 36. , 37.8, 49.9,\n",
       "       51.8, 41.6, 44.2, 38.4, 54. , 38.7, 44.3, 43.7, 57.2, 52.3, 52. ,\n",
       "       44. , 37.1, 56.3, 50.4, 50.3, 28.8, 37.6, 52.6, 52.5, 36.3, 53. ,\n",
       "       43.8, 32.4, 40.4, 28.1, 32.8, 42.3, 32.4, 49.3, 44.5, 55.3, 30.9,\n",
       "       39.3, 48.3, 40. , 53.2, 40.4, 44.3, 37.6, 44.7, 39.7, 37.5, 47.3,\n",
       "       56.4, 39.5, 44.8, 44.2, 32.1, 39.5, 58.1, 45.9, 38.9, 34.6, 48.6,\n",
       "       43.1, 39.1, 30.5, 61.5, 45.9, 57.7, 42.2, 48.1, 37.6, 47.9, 65.2,\n",
       "       55.3, 36.9, 50.3, 46.9, 53.5, 46.4, 29.7, 39.2, 45.9, 37.2, 41.2,\n",
       "       51.8, 38.1, 40.3, 32.9, 41. , 42.1, 54.3, 49.6, 44.6, 45.4, 39.1,\n",
       "       41.6, 50.3, 59.6, 44.5, 44.8, 40.4, 40.3, 66.8, 42.9, 51.3, 52.2,\n",
       "       39.9, 33.5, 46.3, 49.5, 49.7, 46.1, 44.1, 63.5, 43. , 59.8, 51.1,\n",
       "       59.6, 44.1, 43.7, 38.8, 52.6, 41.2, 43. , 47.1, 43. , 45.4, 46. ,\n",
       "       47.6, 38.7, 54.9, 41.8, 41.6, 49.3, 50.2, 43.6, 38.5, 46.9, 52.5,\n",
       "       53.6, 44.9, 49.9, 38.7, 54.6, 40.8, 55.1, 46. , 31.3, 43.3, 43.2,\n",
       "       51. , 35.8, 53.7, 45.4, 58.7, 33.9, 40.2, 40. , 45.2, 47.1, 40.8,\n",
       "       45.7, 49.3, 51.1, 40.2, 42.1, 50.7, 31.5, 60.1, 55.9, 59.8, 56.1,\n",
       "       38.6, 45.5, 40.8, 38.1, 44.5, 52.7, 52.1, 40. , 35.9, 35.1, 39.4,\n",
       "       38.6, 56.8, 36.6, 51. , 44.7, 37.3, 32.1, 40.4, 41.7, 43.1, 50.2,\n",
       "       55.1, 49.1, 42.9, 31.6, 46.2, 39.8, 44.6, 53.2, 52.2, 40.3, 45.4,\n",
       "       53.5, 41.1, 40.5, 37.9, 55.1, 40.2, 31.4, 31. , 39.2, 33.4, 52. ,\n",
       "       49.4, 35.3, 41.6, 45.8, 46.2, 48.5, 46. , 37.1, 47.5, 52.1, 52.7,\n",
       "       37.2, 56.8, 42.2, 40.2, 38.1, 38.9, 53.1, 41. , 55.6, 36.5, 49.8,\n",
       "       40.7, 38.7, 33.3, 50. , 44.5, 41. , 49.1, 43.8, 47.1, 47.3, 43.3,\n",
       "       48.1, 44.8, 57.1, 36.8, 35.4, 25.5, 61.6, 34.2, 42.7, 47.8, 36.3,\n",
       "       27.4, 49.7, 36.3, 50.7, 57.2, 46.8, 47.4, 35.9, 34.3, 46.6, 46.2,\n",
       "       49.6, 33.3, 43.8, 23.2, 43.2, 36.3, 31.4, 35. , 55.1, 34.3, 52.1,\n",
       "       52.4, 65.3, 46.3, 48.3, 50.6, 56. , 32. , 42.3, 44.1, 38.9, 40.3,\n",
       "       58.4, 41.6, 45.7, 38.7, 47.4, 40.6, 48.5, 48.2, 31.4, 36.5, 46.5,\n",
       "       53.1, 50. , 39.3, 39.8, 47.2, 37.5, 45.9, 43.8, 53.2, 59.7, 32.2,\n",
       "       44.4, 42.6, 28.8, 47.3, 49.9, 43.1, 48.7, 37.4, 36.9, 36.3, 36.5,\n",
       "       52. , 39.3, 49.2, 48.7, 56.9, 37.5, 50.2, 35.1, 49.1, 43.2, 62.8,\n",
       "       65.7, 49.6, 46.4, 56.9, 48.4, 35.8, 44.5, 23.5, 41.2, 46. , 45.9,\n",
       "       47.1, 41.7, 42.3, 44.5, 42.3, 45.7, 40. , 45.7, 33.6, 45.6, 42.6,\n",
       "       54.2, 57.6, 36.4, 47.1, 52.1, 44.9, 38. , 43. , 47.2, 52.8, 43.6,\n",
       "       48.4, 36.7, 48.7, 32.6, 37.6, 43.9, 35.1, 55. , 49.6, 51.1, 45.5,\n",
       "       41.2, 74.8, 43.7, 20. , 47.9, 56.4, 41. , 52.8, 47.7, 38.6, 42.3,\n",
       "       47.1, 46.2, 41.3, 44. , 46.6, 32.7, 40.9, 46.1, 41. , 43.9, 39. ,\n",
       "       45. , 46.1, 42.4, 50.2, 37.2, 34.2, 48.6, 44.6, 38.7, 30. , 28.4,\n",
       "       51.2, 53.3, 39. , 45.8, 48.2, 37.7, 42.9, 50.5, 58.1, 37.1, 45. ,\n",
       "       35.5, 41.3, 55.3, 42.4, 45.8, 30.8, 45.3, 48.9, 37.7, 44. , 46.3,\n",
       "       38.2, 47.3, 47.9, 51.3, 39.9, 50.8, 44.4, 43.6, 44. , 31.9, 50.9,\n",
       "       50.9, 49.3, 38.8, 41.8, 47.1, 54.8, 48.6, 46.4, 40.9, 39.3, 41.9,\n",
       "       46.8, 48.3, 58.2, 39.7, 40.9, 44. , 56.6, 40.6, 46.5, 43.3, 52.7,\n",
       "       48. , 50. , 52. , 46.9, 56.1, 40.6, 69.1, 32.8, 37.7, 43.9, 35.3,\n",
       "       47.6, 48. , 53.4, 43.9, 35.1, 54.7, 44.1, 41.6, 45.4, 40.8, 57.4,\n",
       "       44.1, 46.9, 44.7, 48.9, 45.9, 46.8, 36.2, 30.8, 54.4, 39.7, 56.3,\n",
       "       38.3, 53. , 51. , 52.4, 34.5, 45. , 29.5, 39.1, 41.9, 43. , 33.7,\n",
       "       34.4, 40.8, 46.7, 50.1, 47.3, 40.6, 48. , 45.4, 36.7, 40.5, 47.9,\n",
       "       34.9, 53.5, 54.4, 26.4, 39.3, 44.1, 48.4, 43.1, 28.5, 41.7, 44.8,\n",
       "       48.9, 46.7, 42.9, 43. , 49.6, 56. , 42.5, 39.9, 39.8, 55.6, 30.4,\n",
       "       37.9, 28. , 57.2, 49.8, 48.9, 33. , 43.5, 45.7, 44. , 30.5, 40.4,\n",
       "       45.5, 61.1, 41.9, 41.4, 40.3, 39.7, 63.2, 39. , 38. , 41.9, 45.6,\n",
       "       47.5, 29. , 34.9, 44.2, 41.5, 46. , 29. , 44.2, 48.8, 37.6, 41.4,\n",
       "       39.9, 61.4, 33.9, 47.2, 59.9, 48.7, 46.6, 37.4, 33.1, 45.7, 43. ,\n",
       "       44.6, 36.1, 46.2, 54.2, 41.9, 36. , 41.6, 48. , 26.7, 37.3, 45.6,\n",
       "       58.9, 43.4, 59.6, 71.2, 36.3, 41.7, 52.7, 45.5, 47.1, 43.4, 31.4,\n",
       "       54.5, 42.8, 43.6, 54.2, 49.5, 42.2, 60.1, 39.9, 34.9, 49.2, 42.6,\n",
       "       43.8, 44.5, 41.5, 42.2, 52.4, 41.4, 47.3, 40. , 41.3, 49. , 26.9,\n",
       "       43.1, 44. , 41.3, 46.7, 50.3, 40.7, 58.4, 49.7, 53.6, 52. , 51.3,\n",
       "       43.3, 47. , 53. , 29.6, 54. , 52.2, 41.6, 37.1, 60.1, 55.9, 44.3,\n",
       "       52.4, 34.4, 35.4, 48.9, 54.8, 48.5, 37.9, 46.4, 37.3, 40.8, 37.5,\n",
       "       44.4, 38.1, 43.6, 22.4, 45.4, 40.6, 62.3, 59.2, 60.5, 53.1, 42.1,\n",
       "       45.2, 45.2, 44.9, 49.2, 47.4, 30.4, 29.9, 42.5, 34.8, 28.4, 38.5,\n",
       "       38.1, 55.3, 40.2, 44.6, 36.8, 36.2, 39.8, 27.6, 48.9, 54.1, 46.2,\n",
       "       43.2, 49.2, 50. , 38.4, 40.6, 52.5, 62.2, 57.5, 47. , 39.8, 59.6,\n",
       "       41.8, 42.8, 44.5, 48.4, 42. , 54.2, 53.5, 43.9, 49.7, 44.1, 48.8,\n",
       "       37.5, 43.3, 43.8, 33.4, 39.1, 41.8, 40.8, 37.1, 57.3, 52.3, 51.5,\n",
       "       47.3, 38.2, 36.3, 42.5, 60.5, 37.4, 52. , 44.8, 45.5, 52.1, 38.8,\n",
       "       29.3, 45.1, 43.2, 37.5, 62.1, 39.1, 30.3, 36.8, 33.2, 41. , 44.5,\n",
       "       55.2, 43. , 64.3, 52.1, 52.9, 52.5, 42.5, 41.8, 22. , 38.7])"
      ]
     },
     "execution_count": 64,
     "metadata": {},
     "output_type": "execute_result"
    }
   ],
   "source": [
    "phy"
   ]
  },
  {
   "cell_type": "code",
   "execution_count": 65,
   "metadata": {},
   "outputs": [
    {
     "data": {
      "text/plain": [
       "array([41.3, 44. , 44.6, 36.9, 57.9, 74.3, 51.4, 49.9, 66.5, 31. , 51.2,\n",
       "       44.5, 54.3, 38.3, 45.6, 54.6, 60.8, 48. , 54.5, 39. , 43.6, 46.2,\n",
       "       48.5, 35.6, 40.4, 54.7, 63.9, 46.3, 43.2, 49.6, 51.9, 54.9, 62.8,\n",
       "       53. , 53.7, 55.4, 42.1, 49. , 63.2, 68. , 44.1, 45.9, 53.1, 37.4,\n",
       "       52.7, 37.9, 43. , 45.4, 48.3, 50.4, 53.7, 72. , 54. , 34. , 54.1,\n",
       "       49.9, 35.9, 37.7, 47.9, 52.4, 48.4, 43.3, 32. , 37.9, 36.5, 55.5,\n",
       "       29.8, 36.7, 51.2, 48.9, 24.7, 46.8, 46.6, 50.6, 41.9, 47.4, 52.3,\n",
       "       48.6, 38.5, 39.4, 49.1, 54.5, 47.4, 53.2, 47.5, 50.2, 47. , 54.6,\n",
       "       41.7, 55.4, 41.2, 47.1, 54.2, 54.3, 58.3, 37.8, 44.3, 53.9, 49.6,\n",
       "       46.4, 37.6, 53.8, 43. , 38.9, 47.3, 47.3, 49.3, 39.9, 54.6, 61.9,\n",
       "       57.7, 49.4, 37.6, 64.3, 55.9, 63.4, 46.6, 51.1, 31.7, 55.6, 60.9,\n",
       "       50. , 43.3, 47. , 51.4, 50.1, 46.8, 36.8, 35.9, 35.9, 52.1, 52.5,\n",
       "       43.8, 51.6, 47. , 52.8, 50.9, 32.3, 48.9, 43.4, 48.9, 48.5, 54.5,\n",
       "       60.5, 43.6, 47.3, 31.1, 38.1, 59. , 53.9, 37.3, 50.2, 53.8, 52.2,\n",
       "       42.3, 38.8, 48.5, 36.2, 39.9, 53.1, 57.2, 55.3, 52.7, 62.1, 41. ,\n",
       "       51.3, 43.3, 33.5, 47.3, 57.7, 43.1, 42.7, 38.4, 59. , 52.7, 50.6,\n",
       "       53.6, 47.7, 48.1, 43. , 51.8, 53.6, 45. , 41.7, 49.1, 58.8, 52.1,\n",
       "       49.2, 53.8, 38.9, 54.9, 52.1, 45.6, 60.9, 48.2, 40.6, 44.6, 42.2,\n",
       "       57. , 33.1, 40.2, 61.7, 65.5, 52.2, 57.1, 43. , 38.8, 63.4, 57.7,\n",
       "       31.4, 45.4, 44.4, 46.4, 57.8, 57.1, 58.2, 67. , 48.5, 37.9, 58.4,\n",
       "       31.4, 54.1, 47.6, 55.6, 36.1, 43. , 44.9, 52.3, 50.4, 57.9, 46.4,\n",
       "       50.4, 52.7, 44.7, 54.5, 47. , 45.1, 62.7, 39.3, 50.8, 55.1, 55.3,\n",
       "       58.8, 44.4, 51.2, 46.5, 39.9, 64.2, 55.7, 64.4, 38.2, 33.8, 60.2,\n",
       "       49.4, 44.4, 50.9, 51.4, 43.7, 45. , 32.1, 41.4, 53.4, 44.5, 50.4,\n",
       "       49.2, 62.6, 51.2, 34.7, 59.8, 46.6, 41. , 46.7, 45.4, 46.6, 38.5,\n",
       "       45.9, 40.3, 50.9, 48.8, 64.1, 44.6, 35.5, 53.7, 52.5, 48.7, 40.8,\n",
       "       50.6, 50.1, 46.8, 43.7, 58.6, 36.6, 42.6, 47.1, 48.1, 40.8, 50.3,\n",
       "       56. , 34.9, 35.9, 53. , 40.6, 58.3, 39.3, 54.3, 61.4, 53.5, 29.6,\n",
       "       49.9, 50.9, 53.8, 38.6, 45.6, 53.1, 40.9, 40.2, 44.8, 44.6, 46.3,\n",
       "       36.7, 55.4, 44.2, 45.2, 61.3, 34.6, 46.9, 48.2, 66.6, 50.6, 51.4,\n",
       "       41.7, 50.1, 41.2, 43.4, 54.8, 34.6, 38.9, 46.8, 51.3, 38.3, 46.9,\n",
       "       44.4, 58.6, 66.3, 39.5, 47.9, 37.7, 57.9, 58.3, 45. , 45.6, 46.3,\n",
       "       59.6, 47.4, 41.2, 57.5, 43. , 33.2, 42.6, 48.3, 57.9, 35.1, 60.7,\n",
       "       54.5, 33.4, 43.5, 48.4, 52. , 41.9, 46.5, 58.5, 50.1, 42.5, 46.6,\n",
       "       35.7, 40.5, 36.2, 40.7, 60.5, 45.8, 40.1, 44.7, 64.2, 59.4, 50.1,\n",
       "       41.8, 43.4, 45.8, 41.2, 49.3, 52.3, 53.1, 43.5, 56.1, 46.1, 51.1,\n",
       "       49.1, 52.7, 39.6, 41.3, 52.8, 50.7, 43.3, 55.2, 49.5, 36. , 42.5,\n",
       "       57.2, 53. , 42.9, 42.4, 46.9, 48.2, 41.8, 43. , 36.7, 54.4, 54.2,\n",
       "       47.6, 56.8, 46.2, 48.1, 56.8, 42.3, 57.3, 54.8, 48.9, 43.5, 51.5,\n",
       "       54.4, 54.5, 45.5, 41.8, 52.4, 47.5, 54.8, 41.5, 36.9, 50.7, 51. ,\n",
       "       49.3, 43.7, 47.1, 48.5, 31.3, 57.3, 51.3, 49.5, 45.9, 54.2, 46.8,\n",
       "       49.4, 43.5, 50.6, 54.4, 46.7, 49.5, 58.1, 59.5, 60.5, 49.1, 48.1,\n",
       "       53.4, 35.9, 42.4, 54.4, 41.4, 40.9, 52.9, 47.5, 57.6, 54.5, 38.6,\n",
       "       30.9, 37.6, 57.5, 46. , 55.3, 52.4, 45.1, 55.1, 39.2, 52.5, 47.5,\n",
       "       57.3, 59.9, 58.1, 56.2, 55. , 58.4, 43.7, 43.7, 50.9, 51.6, 56.7,\n",
       "       46.8, 35.4, 52.9, 54.8, 29.9, 44.6, 66.4, 48.1, 43. , 40.4, 62.5,\n",
       "       47. , 48.3, 51. , 38.7, 51.6, 32.7, 38.9, 46.3, 45.9, 46.2, 33.8,\n",
       "       46.3, 33.8, 41.4, 35.7, 40.7, 43.5, 57.1, 41.1, 45.4, 50.8, 54.1,\n",
       "       47.4, 48. , 63.8, 48.8, 48.7, 52.7, 39.9, 46.5, 49.1, 48.9, 42.1,\n",
       "       34.9, 43.8, 24.3, 54.7, 44.3, 36. , 31. , 59.1, 56.3, 51.3, 54.6,\n",
       "       48.9, 30.9, 45.1, 46.6, 43.9, 40.1, 48.9, 48.2, 47.8, 51.3, 56. ,\n",
       "       52.9, 43.3, 39.7, 52. , 42.7, 56.1, 51. , 38.4, 58.9, 58.4, 43.3,\n",
       "       44.1, 40.3, 53.8, 45. , 51.1, 53.6, 42.4, 57.2, 71.2, 54.5, 32.4,\n",
       "       44.2, 60.2, 44.5, 32.7, 54.8, 49.8, 45.3, 38.7, 46.5, 41.8, 48.1,\n",
       "       39.7, 42.9, 53. , 43.7, 49. , 52.1, 36.4, 50.2, 49.7, 61. , 53.8,\n",
       "       46.8, 53. , 42.3, 57.1, 45.7, 47.5, 45.5, 64. , 53.5, 61.6, 56.2,\n",
       "       45.7, 48.1, 49.1, 54.7, 47.4, 67.9, 52.7, 55. , 47.7, 53.9, 43. ,\n",
       "       67.6, 53.5, 51.4, 61.3, 59.5, 53.4, 42.6, 46.4, 40.4, 60. , 38.8,\n",
       "       39.8, 39.4, 46.5, 37.1, 40.4, 35.9, 52.5, 64.5, 38.7, 48.9, 37.7,\n",
       "       45.9, 47.2, 45.9, 20. , 54.2, 42.7, 49.7, 53.9, 41. , 50.8, 45.7,\n",
       "       43.3, 43.4, 59.6, 34.6, 55. , 35.6, 46.6, 42.8, 39.8, 55.3, 49.4,\n",
       "       45. , 48.6, 46. , 45.3, 39.7, 50.5, 38.2, 40.6, 58.4, 46.6, 45.6,\n",
       "       43.8, 54.2, 43. , 42.6, 36.7, 51.9, 49.7, 55.4, 44.4, 44.5, 40.6,\n",
       "       51.2, 48.2, 58.7, 59.1, 31.9, 62.3, 31.9, 58.8, 48.3, 44.3, 38.3,\n",
       "       55.1, 57.9, 44.7, 46.1, 48.8, 49.4, 62.5, 54.6, 51.8, 60.1, 54.7,\n",
       "       41.2, 53. , 53.3, 56.2, 37.2, 44.7, 47.2, 42. , 54.2, 42.6, 54.7,\n",
       "       50.5, 39.7, 46.4, 29.2, 51.5, 37.2, 52.4, 42. , 25.9, 60.3, 47.7,\n",
       "       40.4, 49.7, 35. , 42.4, 54.5, 47.8, 55.2, 46.2, 37.1, 50.4, 47.6,\n",
       "       41.8, 56. , 41.7, 60. , 50.9, 46.9, 58. , 48.9, 46.4, 51.8, 51.4,\n",
       "       63.6, 52.7, 47.5, 40.5, 49.7, 46. , 51.9, 51.7, 59.6, 60.8, 35.5,\n",
       "       36.3, 30.8, 39. , 46.4, 50.1, 41.3, 56.4, 59. , 47.7, 44. , 51.3,\n",
       "       46.5, 63.6, 52.9, 41.9, 39.7, 41.3, 51.3, 53.5, 47.2, 44. , 34.8,\n",
       "       54.3, 51.3, 50.2, 44.3, 40. , 42.8, 49.6, 47.4, 46.5, 61. , 52.7,\n",
       "       43.4, 53.1, 42.6, 60.8, 54.7, 42. , 43.7, 55.3, 51.6, 56.9, 59.2,\n",
       "       37.6, 43.8, 53. , 45.6, 46.8, 51.4, 53.6, 45.8, 64.8, 53.1, 60.9,\n",
       "       51.4, 64.2, 46.4, 52.3, 48.2, 52.3, 45.8, 54.5, 53. , 49.9, 52.4,\n",
       "       33.3, 47.4, 47.3, 53.4, 51.4, 32.9, 37.6, 60.8, 41.5, 47.9, 46.5,\n",
       "       52.4, 53.6, 68. , 65.7, 56.2, 51.9, 44.2, 47. , 54.8, 47.7, 49.8,\n",
       "       54.9, 48.2, 34.6, 51. , 31.6, 57.9, 58.7, 57.5, 34.3, 39.1, 43.2,\n",
       "       59.1, 44.2, 57.2, 39.8, 56.9, 44.3, 42.1, 35. , 66.8, 46.8, 58.7,\n",
       "       38.9, 46. , 54.4, 49.1, 66.4, 39.5, 45. , 64.7, 37.6, 47.1, 37.3,\n",
       "       53.3, 37.7, 53. , 50.9, 44.3, 56.8, 50. , 50.6, 46.4, 55.3, 46.1,\n",
       "       38.6, 53. , 39.8, 45.9, 50.6, 37.1, 56.8, 50. , 49.2, 44.7, 61.8,\n",
       "       42.2, 54.2, 57.8, 55.8, 43.6, 45. , 61.7, 49.9, 50.1, 45.5, 58.9,\n",
       "       57.7, 36.2, 54.2, 55. , 52.1, 46.5, 45.4, 60.2, 42.6, 50.2, 39.6,\n",
       "       41.9, 39.1, 53.4, 68.7, 54. , 58.1, 48.6, 33.5, 60.4, 54.9, 38.9,\n",
       "       43.1, 37.6, 47.1, 55.9, 55.2, 51.8, 48.4, 60.1, 45. , 42. , 55.6,\n",
       "       45.3, 51.8, 52.6, 55.2, 35. , 44.5, 48.8, 53. , 54.4, 42.2, 50.6,\n",
       "       49. , 40.1, 54.4, 55.5, 46.5, 45.7, 53.4, 52.7, 35.8, 52. , 49. ,\n",
       "       50.1, 43.4, 46.1, 47.7, 54.9, 45.9, 47. , 45.1, 39.9, 37.6, 42.8,\n",
       "       49.4, 48.7, 44.4, 44.8, 39.7, 39.2, 46. , 41.3, 41.4, 44. ])"
      ]
     },
     "execution_count": 65,
     "metadata": {},
     "output_type": "execute_result"
    }
   ],
   "source": [
    "mat"
   ]
  },
  {
   "cell_type": "code",
   "execution_count": 66,
   "metadata": {},
   "outputs": [
    {
     "data": {
      "text/plain": [
       "44.4496"
      ]
     },
     "execution_count": 66,
     "metadata": {},
     "output_type": "execute_result"
    }
   ],
   "source": [
    "np.mean(phy)"
   ]
  },
  {
   "cell_type": "code",
   "execution_count": 67,
   "metadata": {},
   "outputs": [
    {
     "data": {
      "text/plain": [
       "7.977001933057306"
      ]
     },
     "execution_count": 67,
     "metadata": {},
     "output_type": "execute_result"
    }
   ],
   "source": [
    "np.std(phy)"
   ]
  },
  {
   "cell_type": "code",
   "execution_count": 68,
   "metadata": {},
   "outputs": [
    {
     "data": {
      "text/plain": [
       "(20.0, 74.8)"
      ]
     },
     "execution_count": 68,
     "metadata": {},
     "output_type": "execute_result"
    }
   ],
   "source": [
    "np.min(phy), np.max(phy)"
   ]
  },
  {
   "cell_type": "code",
   "execution_count": 69,
   "metadata": {},
   "outputs": [
    {
     "data": {
      "text/plain": [
       "51.1"
      ]
     },
     "execution_count": 69,
     "metadata": {},
     "output_type": "execute_result"
    }
   ],
   "source": [
    "np.percentile(phy, 80)"
   ]
  },
  {
   "cell_type": "code",
   "execution_count": 70,
   "metadata": {},
   "outputs": [
    {
     "data": {
      "text/plain": [
       "44.2"
      ]
     },
     "execution_count": 70,
     "metadata": {},
     "output_type": "execute_result"
    }
   ],
   "source": [
    "np.median(phy)"
   ]
  },
  {
   "cell_type": "code",
   "execution_count": 71,
   "metadata": {},
   "outputs": [],
   "source": [
    "marks = np.vstack((phy, mat))"
   ]
  },
  {
   "cell_type": "code",
   "execution_count": 72,
   "metadata": {},
   "outputs": [
    {
     "data": {
      "text/plain": [
       "array([44.4496, 48.1981])"
      ]
     },
     "execution_count": 72,
     "metadata": {},
     "output_type": "execute_result"
    }
   ],
   "source": [
    "np.mean(marks,axis=1)"
   ]
  },
  {
   "cell_type": "code",
   "execution_count": 73,
   "metadata": {},
   "outputs": [
    {
     "data": {
      "text/plain": [
       "46.32385000000001"
      ]
     },
     "execution_count": 73,
     "metadata": {},
     "output_type": "execute_result"
    }
   ],
   "source": [
    "np.mean(marks)"
   ]
  },
  {
   "cell_type": "code",
   "execution_count": 74,
   "metadata": {},
   "outputs": [
    {
     "data": {
      "text/plain": [
       "array([46.2, 55. , 56. , 45.3, 46. , 44.8, 46.7, 53.1, 50.9, 46.5, 51. ,\n",
       "       57.8, 52.3, 53.3, 51.1, 49.8, 45.4, 54.1, 49.6, 55.2, 48.7, 57. ,\n",
       "       47.8, 50.8, 44.7, 60.7, 59. , 52.3, 59.1, 46.3, 47.6, 51.5, 49.6,\n",
       "       48.4, 50.3, 54.3, 55. , 57.4, 52. , 45.3, 47.4, 46.4, 47.2, 47.9,\n",
       "       73.6, 52.2, 53.7, 46.1, 46.5, 46.4, 66.1, 47.3, 54.5, 52.2, 47.1,\n",
       "       50.9, 51.4, 49.2, 45.8, 57.1, 45.9, 54.3, 53.6, 48.8, 47.6, 48.2,\n",
       "       55. , 50.9, 49.8, 46.1, 52.3, 52.1, 49.7, 45.3, 52.7, 46.5, 46.8,\n",
       "       45.7, 48.5, 48.7, 46.5, 44.6, 45.7, 47.1, 47.7, 44.7, 51.8, 54.2,\n",
       "       51.1, 51.5, 58.5, 46.3, 57. , 50.5, 48.1, 51.4, 45.6, 45.3, 53.2,\n",
       "       45.5, 44.9, 48.2, 49.2, 47.3, 49.4, 57.9, 59.4, 49.3, 51. , 59.2,\n",
       "       51.8, 51.2, 60.6, 46.8, 51.4, 48.7, 50.9, 53.5, 51.5, 46.6, 48.2,\n",
       "       49.9, 51.8, 54. , 57.2, 52.3, 52. , 56.3, 50.4, 50.3, 52.6, 52.5,\n",
       "       53. , 49.3, 44.5, 55.3, 48.3, 53.2, 44.7, 47.3, 56.4, 44.8, 58.1,\n",
       "       45.9, 48.6, 61.5, 45.9, 57.7, 48.1, 47.9, 65.2, 55.3, 50.3, 46.9,\n",
       "       53.5, 46.4, 45.9, 51.8, 54.3, 49.6, 44.6, 45.4, 50.3, 59.6, 44.5,\n",
       "       44.8, 66.8, 51.3, 52.2, 46.3, 49.5, 49.7, 46.1, 63.5, 59.8, 51.1,\n",
       "       59.6, 52.6, 47.1, 45.4, 46. , 47.6, 54.9, 49.3, 50.2, 46.9, 52.5,\n",
       "       53.6, 44.9, 49.9, 54.6, 55.1, 46. , 51. , 53.7, 45.4, 58.7, 45.2,\n",
       "       47.1, 45.7, 49.3, 51.1, 50.7, 60.1, 55.9, 59.8, 56.1, 45.5, 44.5,\n",
       "       52.7, 52.1, 56.8, 51. , 44.7, 50.2, 55.1, 49.1, 46.2, 44.6, 53.2,\n",
       "       52.2, 45.4, 53.5, 55.1, 52. , 49.4, 45.8, 46.2, 48.5, 46. , 47.5,\n",
       "       52.1, 52.7, 56.8, 53.1, 55.6, 49.8, 50. , 44.5, 49.1, 47.1, 47.3,\n",
       "       48.1, 44.8, 57.1, 61.6, 47.8, 49.7, 50.7, 57.2, 46.8, 47.4, 46.6,\n",
       "       46.2, 49.6, 55.1, 52.1, 52.4, 65.3, 46.3, 48.3, 50.6, 56. , 58.4,\n",
       "       45.7, 47.4, 48.5, 48.2, 46.5, 53.1, 50. , 47.2, 45.9, 53.2, 59.7,\n",
       "       47.3, 49.9, 48.7, 52. , 49.2, 48.7, 56.9, 50.2, 49.1, 62.8, 65.7,\n",
       "       49.6, 46.4, 56.9, 48.4, 44.5, 46. , 45.9, 47.1, 44.5, 45.7, 45.7,\n",
       "       45.6, 54.2, 57.6, 47.1, 52.1, 44.9, 47.2, 52.8, 48.4, 48.7, 55. ,\n",
       "       49.6, 51.1, 45.5, 74.8, 47.9, 56.4, 52.8, 47.7, 47.1, 46.2, 46.6,\n",
       "       46.1, 45. , 46.1, 50.2, 48.6, 44.6, 51.2, 53.3, 45.8, 48.2, 50.5,\n",
       "       58.1, 45. , 55.3, 45.8, 45.3, 48.9, 46.3, 47.3, 47.9, 51.3, 50.8,\n",
       "       50.9, 50.9, 49.3, 47.1, 54.8, 48.6, 46.4, 46.8, 48.3, 58.2, 56.6,\n",
       "       46.5, 52.7, 48. , 50. , 52. , 46.9, 56.1, 69.1, 47.6, 48. , 53.4,\n",
       "       54.7, 45.4, 57.4, 46.9, 44.7, 48.9, 45.9, 46.8, 54.4, 56.3, 53. ,\n",
       "       51. , 52.4, 45. , 46.7, 50.1, 47.3, 48. , 45.4, 47.9, 53.5, 54.4,\n",
       "       48.4, 44.8, 48.9, 46.7, 49.6, 56. , 55.6, 57.2, 49.8, 48.9, 45.7,\n",
       "       45.5, 61.1, 63.2, 45.6, 47.5, 46. , 48.8, 61.4, 47.2, 59.9, 48.7,\n",
       "       46.6, 45.7, 44.6, 46.2, 54.2, 48. , 45.6, 58.9, 59.6, 71.2, 52.7,\n",
       "       45.5, 47.1, 54.5, 54.2, 49.5, 60.1, 49.2, 44.5, 52.4, 47.3, 49. ,\n",
       "       46.7, 50.3, 58.4, 49.7, 53.6, 52. , 51.3, 47. , 53. , 54. , 52.2,\n",
       "       60.1, 55.9, 52.4, 48.9, 54.8, 48.5, 46.4, 45.4, 62.3, 59.2, 60.5,\n",
       "       53.1, 45.2, 45.2, 44.9, 49.2, 47.4, 55.3, 44.6, 48.9, 54.1, 46.2,\n",
       "       49.2, 50. , 52.5, 62.2, 57.5, 47. , 59.6, 44.5, 48.4, 54.2, 53.5,\n",
       "       49.7, 48.8, 57.3, 52.3, 51.5, 47.3, 60.5, 52. , 44.8, 45.5, 52.1,\n",
       "       45.1, 62.1, 44.5, 55.2, 64.3, 52.1, 52.9, 52.5])"
      ]
     },
     "execution_count": 74,
     "metadata": {},
     "output_type": "execute_result"
    }
   ],
   "source": [
    "phy[phy>np.mean(phy)]"
   ]
  },
  {
   "cell_type": "code",
   "execution_count": 75,
   "metadata": {},
   "outputs": [
    {
     "data": {
      "text/plain": [
       "array([ 1,  1, -1,  1, -1, -1, -1, -1, -1,  1, -1, -1, -1, -1, -1, -1, -1,\n",
       "       -1, -1,  1,  1, -1, -1,  1, -1, -1, -1, -1,  1, -1,  1, -1, -1, -1,\n",
       "       -1, -1,  1,  1, -1, -1, -1, -1,  1,  1, -1,  1,  1, -1,  1, -1, -1,\n",
       "       -1, -1,  1, -1,  1, -1,  1,  1, -1, -1,  1,  1, -1,  1, -1,  1, -1,\n",
       "        1, -1,  1,  1,  1, -1,  1, -1,  1,  1,  1,  1,  1, -1, -1, -1, -1,\n",
       "       -1, -1, -1,  1,  1,  1,  1, -1, -1, -1,  1, -1, -1, -1,  1,  1, -1,\n",
       "       -1,  1, -1, -1, -1, -1, -1, -1, -1, -1,  1, -1, -1, -1,  1, -1, -1,\n",
       "       -1, -1, -1,  1, -1, -1, -1, -1, -1,  1,  1,  1, -1, -1, -1, -1, -1,\n",
       "       -1,  1,  1, -1, -1, -1, -1, -1, -1, -1,  1,  1, -1, -1,  1,  1, -1,\n",
       "       -1,  1,  1, -1,  1, -1, -1, -1, -1, -1, -1, -1, -1,  1,  1, -1, -1,\n",
       "       -1,  1, -1, -1, -1, -1, -1, -1,  1,  1, -1,  1, -1,  1, -1, -1, -1,\n",
       "       -1, -1,  1, -1, -1,  1, -1, -1,  1,  1, -1, -1,  1,  1, -1, -1, -1,\n",
       "       -1, -1,  1, -1, -1,  1, -1,  1,  1,  1, -1, -1, -1,  1,  1, -1,  1,\n",
       "       -1,  1, -1,  1,  1,  1, -1, -1, -1, -1, -1, -1,  1, -1, -1, -1, -1,\n",
       "       -1, -1, -1, -1, -1, -1, -1, -1,  1, -1, -1, -1,  1,  1, -1, -1, -1,\n",
       "        1, -1,  1, -1,  1,  1, -1, -1,  1, -1, -1, -1, -1, -1, -1, -1,  1,\n",
       "       -1,  1, -1, -1,  1, -1,  1, -1, -1,  1, -1, -1, -1,  1,  1, -1, -1,\n",
       "        1, -1,  1,  1, -1, -1, -1, -1, -1,  1, -1,  1,  1, -1,  1, -1, -1,\n",
       "       -1,  1,  1, -1, -1,  1,  1, -1, -1, -1,  1, -1, -1,  1, -1, -1, -1,\n",
       "       -1,  1,  1,  1, -1, -1, -1, -1,  1,  1,  1, -1,  1,  1,  1, -1,  1,\n",
       "        1, -1, -1, -1,  1,  1,  1, -1,  1, -1,  1,  1, -1, -1,  1, -1,  1,\n",
       "        1,  1, -1, -1,  1, -1, -1,  1,  1, -1, -1,  1,  1, -1, -1,  1,  1,\n",
       "        1,  1,  1, -1, -1, -1,  1,  1, -1, -1, -1,  1, -1,  1,  1,  1, -1,\n",
       "       -1, -1, -1,  1, -1, -1, -1,  1, -1, -1, -1, -1,  1,  1,  1,  1, -1,\n",
       "       -1, -1, -1, -1,  1,  1, -1, -1, -1, -1, -1, -1, -1,  1, -1, -1, -1,\n",
       "       -1, -1, -1, -1,  1, -1, -1, -1, -1, -1, -1,  1,  1, -1, -1,  1, -1,\n",
       "       -1, -1,  1, -1, -1, -1, -1, -1,  1, -1, -1, -1, -1, -1, -1, -1, -1,\n",
       "       -1,  1,  1, -1,  1, -1, -1, -1, -1,  1, -1, -1, -1,  1,  1,  1, -1,\n",
       "        1, -1, -1,  1, -1,  1, -1, -1, -1, -1, -1, -1, -1, -1,  1, -1, -1,\n",
       "       -1, -1, -1,  1, -1, -1,  1,  1, -1, -1, -1,  1, -1,  1, -1, -1, -1,\n",
       "       -1,  1, -1, -1,  1, -1,  1,  1,  1,  1,  1,  1,  1, -1,  1, -1, -1,\n",
       "       -1,  1, -1, -1, -1, -1, -1,  1,  1, -1, -1,  1,  1,  1,  1, -1,  1,\n",
       "        1,  1, -1, -1,  1, -1, -1,  1, -1,  1,  1,  1, -1, -1, -1, -1, -1,\n",
       "       -1, -1,  1, -1,  1, -1, -1, -1, -1, -1,  1,  1,  1, -1,  1, -1, -1,\n",
       "        1, -1, -1, -1,  1,  1, -1, -1,  1, -1, -1, -1,  1, -1,  1, -1,  1,\n",
       "        1, -1,  1,  1, -1,  1, -1, -1, -1, -1,  1, -1,  1, -1, -1, -1, -1,\n",
       "       -1, -1, -1, -1, -1,  1, -1, -1,  1, -1, -1, -1, -1, -1, -1, -1, -1,\n",
       "       -1, -1, -1, -1, -1, -1,  1, -1,  1,  1,  1, -1,  1, -1, -1, -1, -1,\n",
       "       -1, -1, -1,  1,  1, -1,  1, -1, -1, -1, -1,  1, -1, -1, -1, -1, -1,\n",
       "        1, -1, -1, -1,  1, -1, -1, -1, -1, -1,  1,  1,  1,  1,  1,  1, -1,\n",
       "       -1,  1,  1, -1, -1, -1,  1,  1, -1, -1, -1, -1,  1, -1,  1, -1, -1,\n",
       "        1, -1,  1, -1, -1, -1,  1, -1, -1,  1,  1,  1, -1,  1, -1, -1, -1,\n",
       "       -1,  1, -1,  1, -1, -1,  1, -1, -1, -1, -1,  1, -1,  1, -1,  1, -1,\n",
       "        1, -1, -1,  1, -1,  1, -1,  1,  1,  1, -1, -1, -1, -1,  1, -1, -1,\n",
       "       -1, -1,  1, -1, -1, -1, -1, -1, -1, -1, -1, -1,  1,  1, -1, -1, -1,\n",
       "       -1, -1, -1, -1,  1,  1,  1,  1, -1, -1,  1, -1, -1, -1,  1, -1, -1,\n",
       "       -1,  1,  1,  1, -1, -1, -1, -1, -1,  1, -1,  1, -1, -1,  1, -1,  1,\n",
       "       -1, -1, -1, -1,  1, -1, -1, -1, -1,  1, -1, -1, -1, -1, -1,  1,  1,\n",
       "       -1,  1,  1, -1, -1, -1, -1, -1, -1, -1, -1, -1,  1, -1, -1, -1, -1,\n",
       "       -1, -1, -1,  1, -1,  1,  1, -1,  1,  1, -1,  1, -1, -1,  1, -1, -1,\n",
       "       -1, -1, -1,  1, -1, -1,  1, -1, -1, -1,  1, -1,  1, -1, -1, -1,  1,\n",
       "        1, -1, -1, -1, -1,  1, -1, -1,  1,  1, -1,  1, -1,  1,  1, -1, -1,\n",
       "       -1,  1, -1, -1,  1,  1,  1, -1, -1, -1, -1,  1, -1, -1, -1, -1, -1,\n",
       "       -1,  1, -1,  1, -1, -1,  1,  1,  1,  1,  1, -1,  1, -1, -1, -1,  1,\n",
       "       -1, -1, -1, -1, -1, -1, -1,  1, -1, -1, -1, -1, -1, -1,  1,  1,  1,\n",
       "        1,  1, -1, -1, -1, -1,  1,  1, -1, -1,  1, -1,  1, -1, -1, -1,  1,\n",
       "        1, -1,  1,  1, -1, -1, -1, -1, -1,  1, -1, -1, -1,  1,  1,  1, -1,\n",
       "       -1, -1, -1,  1, -1, -1, -1,  1,  1, -1, -1,  1, -1, -1,  1, -1, -1,\n",
       "       -1, -1,  1,  1,  1, -1,  1,  1,  1,  1, -1,  1, -1, -1])"
      ]
     },
     "execution_count": 75,
     "metadata": {},
     "output_type": "execute_result"
    }
   ],
   "source": [
    "np.where(phy>mat,1,-1)"
   ]
  },
  {
   "cell_type": "code",
   "execution_count": 76,
   "metadata": {},
   "outputs": [
    {
     "data": {
      "text/plain": [
       "matrix([[1, 2, 3]])"
      ]
     },
     "execution_count": 76,
     "metadata": {},
     "output_type": "execute_result"
    }
   ],
   "source": [
    "A = np.mat([1,2,3])\n",
    "A"
   ]
  },
  {
   "cell_type": "code",
   "execution_count": 77,
   "metadata": {},
   "outputs": [
    {
     "data": {
      "text/plain": [
       "matrix([[1, 2, 3],\n",
       "        [4, 5, 6],\n",
       "        [7, 8, 9]])"
      ]
     },
     "execution_count": 77,
     "metadata": {},
     "output_type": "execute_result"
    }
   ],
   "source": [
    "B = np.mat('1 2 3; 4 5 6;7 8 9')\n",
    "B"
   ]
  },
  {
   "cell_type": "code",
   "execution_count": 78,
   "metadata": {},
   "outputs": [
    {
     "data": {
      "text/plain": [
       "matrix([[1., 0.],\n",
       "        [0., 1.]])"
      ]
     },
     "execution_count": 78,
     "metadata": {},
     "output_type": "execute_result"
    }
   ],
   "source": [
    "np.mat(np.eye(2))"
   ]
  },
  {
   "cell_type": "code",
   "execution_count": 80,
   "metadata": {},
   "outputs": [],
   "source": [
    "a = np.arange(1, 10).reshape(3,3)\n",
    "b = np.array([[1,0,1],[0,1,1],[1,1,0]])"
   ]
  },
  {
   "cell_type": "code",
   "execution_count": 81,
   "metadata": {},
   "outputs": [
    {
     "data": {
      "text/plain": [
       "array([[1, 0, 3],\n",
       "       [0, 5, 6],\n",
       "       [7, 8, 0]])"
      ]
     },
     "execution_count": 81,
     "metadata": {},
     "output_type": "execute_result"
    }
   ],
   "source": [
    "a * b"
   ]
  },
  {
   "cell_type": "code",
   "execution_count": 82,
   "metadata": {},
   "outputs": [
    {
     "data": {
      "text/plain": [
       "matrix([[ 4,  5,  3],\n",
       "        [10, 11,  9],\n",
       "        [16, 17, 15]])"
      ]
     },
     "execution_count": 82,
     "metadata": {},
     "output_type": "execute_result"
    }
   ],
   "source": [
    "A = np.mat(a)\n",
    "B = np.mat(b)\n",
    "A * B"
   ]
  },
  {
   "cell_type": "code",
   "execution_count": 83,
   "metadata": {},
   "outputs": [
    {
     "data": {
      "text/plain": [
       "array([[ 4,  5,  3],\n",
       "       [10, 11,  9],\n",
       "       [16, 17, 15]])"
      ]
     },
     "execution_count": 83,
     "metadata": {},
     "output_type": "execute_result"
    }
   ],
   "source": [
    "np.dot(a,b)"
   ]
  },
  {
   "cell_type": "markdown",
   "metadata": {},
   "source": [
    "标量积 np.dot\n",
    "内积 np.inner"
   ]
  },
  {
   "cell_type": "code",
   "execution_count": 84,
   "metadata": {},
   "outputs": [],
   "source": [
    "np.inner?"
   ]
  },
  {
   "cell_type": "code",
   "execution_count": 85,
   "metadata": {},
   "outputs": [
    {
     "data": {
      "text/plain": [
       "array([[19, 22],\n",
       "       [43, 50]])"
      ]
     },
     "execution_count": 85,
     "metadata": {},
     "output_type": "execute_result"
    }
   ],
   "source": [
    "c = np.array([[1,2],[3,4]])\n",
    "d = np.array([[5,6],[7,8]])\n",
    "np.dot(c,d)"
   ]
  },
  {
   "cell_type": "code",
   "execution_count": 86,
   "metadata": {},
   "outputs": [
    {
     "data": {
      "text/plain": [
       "array([[17, 23],\n",
       "       [39, 53]])"
      ]
     },
     "execution_count": 86,
     "metadata": {},
     "output_type": "execute_result"
    }
   ],
   "source": [
    "np.inner(c, d)"
   ]
  },
  {
   "cell_type": "markdown",
   "metadata": {},
   "source": [
    "矢量积np.cross\n",
    "张量积np.tensordot"
   ]
  },
  {
   "cell_type": "code",
   "execution_count": 88,
   "metadata": {},
   "outputs": [],
   "source": [
    "a = np.array([1, -2, 1])\n",
    "p = np.poly1d(a)"
   ]
  },
  {
   "cell_type": "code",
   "execution_count": 89,
   "metadata": {},
   "outputs": [
    {
     "data": {
      "text/plain": [
       "0"
      ]
     },
     "execution_count": 89,
     "metadata": {},
     "output_type": "execute_result"
    }
   ],
   "source": [
    "p(1)"
   ]
  },
  {
   "cell_type": "code",
   "execution_count": 91,
   "metadata": {},
   "outputs": [
    {
     "data": {
      "text/plain": [
       "-1.0"
      ]
     },
     "execution_count": 91,
     "metadata": {},
     "output_type": "execute_result"
    }
   ],
   "source": [
    "a = np.array([1,3,1])\n",
    "g = np.poly1d(a)\n",
    "f = lambda x: g(x-1)\n",
    "f(0.0)"
   ]
  },
  {
   "cell_type": "code",
   "execution_count": 92,
   "metadata": {},
   "outputs": [],
   "source": [
    "np.poly1d?"
   ]
  },
  {
   "cell_type": "code",
   "execution_count": 93,
   "metadata": {},
   "outputs": [
    {
     "name": "stdout",
     "output_type": "stream",
     "text": [
      "<function <lambda> at 0x10eaa5d08>\n"
     ]
    }
   ],
   "source": [
    "print(f)"
   ]
  },
  {
   "cell_type": "code",
   "execution_count": 94,
   "metadata": {},
   "outputs": [
    {
     "name": "stdout",
     "output_type": "stream",
     "text": [
      "   2\n",
      "1 x + 3 x + 1\n"
     ]
    }
   ],
   "source": [
    "print(g)"
   ]
  },
  {
   "cell_type": "markdown",
   "metadata": {},
   "source": [
    "np.linalg"
   ]
  },
  {
   "cell_type": "code",
   "execution_count": 95,
   "metadata": {},
   "outputs": [],
   "source": [
    "import pandas as pd"
   ]
  },
  {
   "cell_type": "code",
   "execution_count": 96,
   "metadata": {},
   "outputs": [
    {
     "data": {
      "text/plain": [
       "array([1, 3, 1])"
      ]
     },
     "execution_count": 96,
     "metadata": {},
     "output_type": "execute_result"
    }
   ],
   "source": [
    "a"
   ]
  },
  {
   "cell_type": "code",
   "execution_count": 97,
   "metadata": {},
   "outputs": [
    {
     "data": {
      "text/plain": [
       "a    1\n",
       "b    3\n",
       "c    1\n",
       "dtype: int64"
      ]
     },
     "execution_count": 97,
     "metadata": {},
     "output_type": "execute_result"
    }
   ],
   "source": [
    "s = pd.Series(a, index=['a', 'b', 'c'])\n",
    "s"
   ]
  },
  {
   "cell_type": "code",
   "execution_count": 98,
   "metadata": {},
   "outputs": [
    {
     "data": {
      "text/plain": [
       "1"
      ]
     },
     "execution_count": 98,
     "metadata": {},
     "output_type": "execute_result"
    }
   ],
   "source": [
    "a[0]"
   ]
  },
  {
   "cell_type": "code",
   "execution_count": 99,
   "metadata": {},
   "outputs": [
    {
     "data": {
      "text/plain": [
       "1"
      ]
     },
     "execution_count": 99,
     "metadata": {},
     "output_type": "execute_result"
    }
   ],
   "source": [
    "s[\"a\"]"
   ]
  },
  {
   "cell_type": "code",
   "execution_count": 102,
   "metadata": {},
   "outputs": [],
   "source": [
    "s1 = pd.Series([1,23,4], index=[1,2,3])"
   ]
  },
  {
   "cell_type": "code",
   "execution_count": 103,
   "metadata": {},
   "outputs": [
    {
     "data": {
      "text/plain": [
       "1     1\n",
       "2    23\n",
       "3     4\n",
       "dtype: int64"
      ]
     },
     "execution_count": 103,
     "metadata": {},
     "output_type": "execute_result"
    }
   ],
   "source": [
    "s1"
   ]
  },
  {
   "cell_type": "code",
   "execution_count": 104,
   "metadata": {},
   "outputs": [
    {
     "data": {
      "text/plain": [
       "1"
      ]
     },
     "execution_count": 104,
     "metadata": {},
     "output_type": "execute_result"
    }
   ],
   "source": [
    "s1[1]"
   ]
  },
  {
   "cell_type": "code",
   "execution_count": 105,
   "metadata": {},
   "outputs": [
    {
     "data": {
      "text/plain": [
       "a    11\n",
       "b    88\n",
       "c    99\n",
       "dtype: int64"
      ]
     },
     "execution_count": 105,
     "metadata": {},
     "output_type": "execute_result"
    }
   ],
   "source": [
    "pd.Series({\"a\":11, \"b\":88, \"c\":99})"
   ]
  },
  {
   "cell_type": "code",
   "execution_count": 106,
   "metadata": {},
   "outputs": [
    {
     "data": {
      "text/plain": [
       "a    1\n",
       "b    3\n",
       "c    1\n",
       "dtype: int64"
      ]
     },
     "execution_count": 106,
     "metadata": {},
     "output_type": "execute_result"
    }
   ],
   "source": [
    "s"
   ]
  },
  {
   "cell_type": "code",
   "execution_count": 108,
   "metadata": {},
   "outputs": [],
   "source": [
    "s.name = \"hello\""
   ]
  },
  {
   "cell_type": "code",
   "execution_count": 109,
   "metadata": {},
   "outputs": [
    {
     "data": {
      "text/plain": [
       "a    1\n",
       "b    3\n",
       "c    1\n",
       "Name: hello, dtype: int64"
      ]
     },
     "execution_count": 109,
     "metadata": {},
     "output_type": "execute_result"
    }
   ],
   "source": [
    "s"
   ]
  },
  {
   "cell_type": "code",
   "execution_count": 110,
   "metadata": {},
   "outputs": [
    {
     "data": {
      "text/plain": [
       "Index(['a', 'b', 'c'], dtype='object')"
      ]
     },
     "execution_count": 110,
     "metadata": {},
     "output_type": "execute_result"
    }
   ],
   "source": [
    "s.index"
   ]
  },
  {
   "cell_type": "code",
   "execution_count": 111,
   "metadata": {},
   "outputs": [],
   "source": [
    "s.index.name = \"world\""
   ]
  },
  {
   "cell_type": "code",
   "execution_count": 112,
   "metadata": {},
   "outputs": [
    {
     "data": {
      "text/plain": [
       "world\n",
       "a    1\n",
       "b    3\n",
       "c    1\n",
       "Name: hello, dtype: int64"
      ]
     },
     "execution_count": 112,
     "metadata": {},
     "output_type": "execute_result"
    }
   ],
   "source": [
    "s"
   ]
  },
  {
   "cell_type": "code",
   "execution_count": 113,
   "metadata": {},
   "outputs": [],
   "source": [
    "df = pd.DataFrame([[100, 200, 300],[101,201, 301], [102,202,302]])"
   ]
  },
  {
   "cell_type": "code",
   "execution_count": 114,
   "metadata": {},
   "outputs": [
    {
     "data": {
      "text/html": [
       "<div>\n",
       "<style scoped>\n",
       "    .dataframe tbody tr th:only-of-type {\n",
       "        vertical-align: middle;\n",
       "    }\n",
       "\n",
       "    .dataframe tbody tr th {\n",
       "        vertical-align: top;\n",
       "    }\n",
       "\n",
       "    .dataframe thead th {\n",
       "        text-align: right;\n",
       "    }\n",
       "</style>\n",
       "<table border=\"1\" class=\"dataframe\">\n",
       "  <thead>\n",
       "    <tr style=\"text-align: right;\">\n",
       "      <th></th>\n",
       "      <th>0</th>\n",
       "      <th>1</th>\n",
       "      <th>2</th>\n",
       "    </tr>\n",
       "  </thead>\n",
       "  <tbody>\n",
       "    <tr>\n",
       "      <th>0</th>\n",
       "      <td>100</td>\n",
       "      <td>200</td>\n",
       "      <td>300</td>\n",
       "    </tr>\n",
       "    <tr>\n",
       "      <th>1</th>\n",
       "      <td>101</td>\n",
       "      <td>201</td>\n",
       "      <td>301</td>\n",
       "    </tr>\n",
       "    <tr>\n",
       "      <th>2</th>\n",
       "      <td>102</td>\n",
       "      <td>202</td>\n",
       "      <td>302</td>\n",
       "    </tr>\n",
       "  </tbody>\n",
       "</table>\n",
       "</div>"
      ],
      "text/plain": [
       "     0    1    2\n",
       "0  100  200  300\n",
       "1  101  201  301\n",
       "2  102  202  302"
      ]
     },
     "execution_count": 114,
     "metadata": {},
     "output_type": "execute_result"
    }
   ],
   "source": [
    "df"
   ]
  },
  {
   "cell_type": "code",
   "execution_count": 115,
   "metadata": {},
   "outputs": [],
   "source": [
    "df.index = ['zhang','li','wang']"
   ]
  },
  {
   "cell_type": "code",
   "execution_count": 116,
   "metadata": {},
   "outputs": [
    {
     "data": {
      "text/html": [
       "<div>\n",
       "<style scoped>\n",
       "    .dataframe tbody tr th:only-of-type {\n",
       "        vertical-align: middle;\n",
       "    }\n",
       "\n",
       "    .dataframe tbody tr th {\n",
       "        vertical-align: top;\n",
       "    }\n",
       "\n",
       "    .dataframe thead th {\n",
       "        text-align: right;\n",
       "    }\n",
       "</style>\n",
       "<table border=\"1\" class=\"dataframe\">\n",
       "  <thead>\n",
       "    <tr style=\"text-align: right;\">\n",
       "      <th></th>\n",
       "      <th>0</th>\n",
       "      <th>1</th>\n",
       "      <th>2</th>\n",
       "    </tr>\n",
       "  </thead>\n",
       "  <tbody>\n",
       "    <tr>\n",
       "      <th>zhang</th>\n",
       "      <td>100</td>\n",
       "      <td>200</td>\n",
       "      <td>300</td>\n",
       "    </tr>\n",
       "    <tr>\n",
       "      <th>li</th>\n",
       "      <td>101</td>\n",
       "      <td>201</td>\n",
       "      <td>301</td>\n",
       "    </tr>\n",
       "    <tr>\n",
       "      <th>wang</th>\n",
       "      <td>102</td>\n",
       "      <td>202</td>\n",
       "      <td>302</td>\n",
       "    </tr>\n",
       "  </tbody>\n",
       "</table>\n",
       "</div>"
      ],
      "text/plain": [
       "         0    1    2\n",
       "zhang  100  200  300\n",
       "li     101  201  301\n",
       "wang   102  202  302"
      ]
     },
     "execution_count": 116,
     "metadata": {},
     "output_type": "execute_result"
    }
   ],
   "source": [
    "df"
   ]
  },
  {
   "cell_type": "code",
   "execution_count": 117,
   "metadata": {},
   "outputs": [],
   "source": [
    "df.columns = ['english', 'math', 'phy']"
   ]
  },
  {
   "cell_type": "code",
   "execution_count": 119,
   "metadata": {},
   "outputs": [
    {
     "data": {
      "text/html": [
       "<div>\n",
       "<style scoped>\n",
       "    .dataframe tbody tr th:only-of-type {\n",
       "        vertical-align: middle;\n",
       "    }\n",
       "\n",
       "    .dataframe tbody tr th {\n",
       "        vertical-align: top;\n",
       "    }\n",
       "\n",
       "    .dataframe thead th {\n",
       "        text-align: right;\n",
       "    }\n",
       "</style>\n",
       "<table border=\"1\" class=\"dataframe\">\n",
       "  <thead>\n",
       "    <tr style=\"text-align: right;\">\n",
       "      <th></th>\n",
       "      <th>english</th>\n",
       "      <th>math</th>\n",
       "      <th>phy</th>\n",
       "    </tr>\n",
       "  </thead>\n",
       "  <tbody>\n",
       "    <tr>\n",
       "      <th>zhang</th>\n",
       "      <td>100</td>\n",
       "      <td>200</td>\n",
       "      <td>300</td>\n",
       "    </tr>\n",
       "    <tr>\n",
       "      <th>li</th>\n",
       "      <td>101</td>\n",
       "      <td>201</td>\n",
       "      <td>301</td>\n",
       "    </tr>\n",
       "    <tr>\n",
       "      <th>wang</th>\n",
       "      <td>102</td>\n",
       "      <td>202</td>\n",
       "      <td>302</td>\n",
       "    </tr>\n",
       "  </tbody>\n",
       "</table>\n",
       "</div>"
      ],
      "text/plain": [
       "       english  math  phy\n",
       "zhang      100   200  300\n",
       "li         101   201  301\n",
       "wang       102   202  302"
      ]
     },
     "execution_count": 119,
     "metadata": {},
     "output_type": "execute_result"
    }
   ],
   "source": [
    "df"
   ]
  },
  {
   "cell_type": "code",
   "execution_count": 120,
   "metadata": {},
   "outputs": [],
   "source": [
    "pd.DataFrame?"
   ]
  },
  {
   "cell_type": "code",
   "execution_count": 123,
   "metadata": {},
   "outputs": [
    {
     "data": {
      "text/html": [
       "<div>\n",
       "<style scoped>\n",
       "    .dataframe tbody tr th:only-of-type {\n",
       "        vertical-align: middle;\n",
       "    }\n",
       "\n",
       "    .dataframe tbody tr th {\n",
       "        vertical-align: top;\n",
       "    }\n",
       "\n",
       "    .dataframe thead th {\n",
       "        text-align: right;\n",
       "    }\n",
       "</style>\n",
       "<table border=\"1\" class=\"dataframe\">\n",
       "  <thead>\n",
       "    <tr style=\"text-align: right;\">\n",
       "      <th>xueke</th>\n",
       "      <th>english</th>\n",
       "      <th>math</th>\n",
       "      <th>phy</th>\n",
       "    </tr>\n",
       "    <tr>\n",
       "      <th>xingming</th>\n",
       "      <th></th>\n",
       "      <th></th>\n",
       "      <th></th>\n",
       "    </tr>\n",
       "  </thead>\n",
       "  <tbody>\n",
       "    <tr>\n",
       "      <th>zhang</th>\n",
       "      <td>100</td>\n",
       "      <td>200</td>\n",
       "      <td>300</td>\n",
       "    </tr>\n",
       "    <tr>\n",
       "      <th>li</th>\n",
       "      <td>101</td>\n",
       "      <td>201</td>\n",
       "      <td>301</td>\n",
       "    </tr>\n",
       "    <tr>\n",
       "      <th>wang</th>\n",
       "      <td>102</td>\n",
       "      <td>202</td>\n",
       "      <td>302</td>\n",
       "    </tr>\n",
       "  </tbody>\n",
       "</table>\n",
       "</div>"
      ],
      "text/plain": [
       "xueke     english  math  phy\n",
       "xingming                    \n",
       "zhang         100   200  300\n",
       "li            101   201  301\n",
       "wang          102   202  302"
      ]
     },
     "execution_count": 123,
     "metadata": {},
     "output_type": "execute_result"
    }
   ],
   "source": [
    "df.index.name = \"xingming\"\n",
    "df.columns.name = \"xueke\"\n",
    "df"
   ]
  },
  {
   "cell_type": "code",
   "execution_count": 124,
   "metadata": {},
   "outputs": [
    {
     "data": {
      "text/html": [
       "<div>\n",
       "<style scoped>\n",
       "    .dataframe tbody tr th:only-of-type {\n",
       "        vertical-align: middle;\n",
       "    }\n",
       "\n",
       "    .dataframe tbody tr th {\n",
       "        vertical-align: top;\n",
       "    }\n",
       "\n",
       "    .dataframe thead th {\n",
       "        text-align: right;\n",
       "    }\n",
       "</style>\n",
       "<table border=\"1\" class=\"dataframe\">\n",
       "  <thead>\n",
       "    <tr style=\"text-align: right;\">\n",
       "      <th></th>\n",
       "      <th>english</th>\n",
       "      <th>chinese</th>\n",
       "    </tr>\n",
       "  </thead>\n",
       "  <tbody>\n",
       "    <tr>\n",
       "      <th>0</th>\n",
       "      <td>100</td>\n",
       "      <td>30</td>\n",
       "    </tr>\n",
       "    <tr>\n",
       "      <th>1</th>\n",
       "      <td>89</td>\n",
       "      <td>100</td>\n",
       "    </tr>\n",
       "    <tr>\n",
       "      <th>2</th>\n",
       "      <td>20</td>\n",
       "      <td>45</td>\n",
       "    </tr>\n",
       "  </tbody>\n",
       "</table>\n",
       "</div>"
      ],
      "text/plain": [
       "   english  chinese\n",
       "0      100       30\n",
       "1       89      100\n",
       "2       20       45"
      ]
     },
     "execution_count": 124,
     "metadata": {},
     "output_type": "execute_result"
    }
   ],
   "source": [
    "pd.DataFrame({\"english\": [100, 89, 20], \"chinese\":[30, 100, 45]})"
   ]
  },
  {
   "cell_type": "code",
   "execution_count": 125,
   "metadata": {},
   "outputs": [
    {
     "data": {
      "text/plain": [
       "world\n",
       "a    1\n",
       "b    3\n",
       "c    1\n",
       "Name: hello, dtype: int64"
      ]
     },
     "execution_count": 125,
     "metadata": {},
     "output_type": "execute_result"
    }
   ],
   "source": [
    "s"
   ]
  },
  {
   "cell_type": "code",
   "execution_count": 126,
   "metadata": {},
   "outputs": [
    {
     "data": {
      "text/plain": [
       "Index(['a', 'b', 'c'], dtype='object', name='world')"
      ]
     },
     "execution_count": 126,
     "metadata": {},
     "output_type": "execute_result"
    }
   ],
   "source": [
    "s.index"
   ]
  },
  {
   "cell_type": "code",
   "execution_count": 127,
   "metadata": {},
   "outputs": [
    {
     "data": {
      "text/plain": [
       "'a'"
      ]
     },
     "execution_count": 127,
     "metadata": {},
     "output_type": "execute_result"
    }
   ],
   "source": [
    "s.index[0]"
   ]
  },
  {
   "cell_type": "code",
   "execution_count": 128,
   "metadata": {},
   "outputs": [
    {
     "data": {
      "text/plain": [
       "Index(['zhang', 'li', 'wang'], dtype='object', name='xingming')"
      ]
     },
     "execution_count": 128,
     "metadata": {},
     "output_type": "execute_result"
    }
   ],
   "source": [
    "df.index"
   ]
  },
  {
   "cell_type": "code",
   "execution_count": 129,
   "metadata": {},
   "outputs": [
    {
     "data": {
      "text/html": [
       "<div>\n",
       "<style scoped>\n",
       "    .dataframe tbody tr th:only-of-type {\n",
       "        vertical-align: middle;\n",
       "    }\n",
       "\n",
       "    .dataframe tbody tr th {\n",
       "        vertical-align: top;\n",
       "    }\n",
       "\n",
       "    .dataframe thead th {\n",
       "        text-align: right;\n",
       "    }\n",
       "</style>\n",
       "<table border=\"1\" class=\"dataframe\">\n",
       "  <thead>\n",
       "    <tr style=\"text-align: right;\">\n",
       "      <th>xueke</th>\n",
       "      <th>english</th>\n",
       "      <th>math</th>\n",
       "      <th>phy</th>\n",
       "    </tr>\n",
       "    <tr>\n",
       "      <th>xingming</th>\n",
       "      <th></th>\n",
       "      <th></th>\n",
       "      <th></th>\n",
       "    </tr>\n",
       "  </thead>\n",
       "  <tbody>\n",
       "    <tr>\n",
       "      <th>zhang</th>\n",
       "      <td>100</td>\n",
       "      <td>200</td>\n",
       "      <td>300</td>\n",
       "    </tr>\n",
       "    <tr>\n",
       "      <th>li</th>\n",
       "      <td>101</td>\n",
       "      <td>201</td>\n",
       "      <td>301</td>\n",
       "    </tr>\n",
       "    <tr>\n",
       "      <th>wang</th>\n",
       "      <td>102</td>\n",
       "      <td>202</td>\n",
       "      <td>302</td>\n",
       "    </tr>\n",
       "  </tbody>\n",
       "</table>\n",
       "</div>"
      ],
      "text/plain": [
       "xueke     english  math  phy\n",
       "xingming                    \n",
       "zhang         100   200  300\n",
       "li            101   201  301\n",
       "wang          102   202  302"
      ]
     },
     "execution_count": 129,
     "metadata": {},
     "output_type": "execute_result"
    }
   ],
   "source": [
    "df"
   ]
  },
  {
   "cell_type": "code",
   "execution_count": 130,
   "metadata": {},
   "outputs": [
    {
     "data": {
      "text/plain": [
       "Index(['english', 'math', 'phy'], dtype='object', name='xueke')"
      ]
     },
     "execution_count": 130,
     "metadata": {},
     "output_type": "execute_result"
    }
   ],
   "source": [
    "df.columns"
   ]
  },
  {
   "cell_type": "code",
   "execution_count": 131,
   "metadata": {},
   "outputs": [],
   "source": [
    "city_index=[(\"china\",\"beijing\"),(\"china\",\"shanghai\"),(\"usa\",'chicago')]"
   ]
  },
  {
   "cell_type": "code",
   "execution_count": 132,
   "metadata": {},
   "outputs": [
    {
     "data": {
      "text/plain": [
       "MultiIndex(levels=[['china', 'usa'], ['beijing', 'chicago', 'shanghai']],\n",
       "           labels=[[0, 0, 1], [0, 2, 1]])"
      ]
     },
     "execution_count": 132,
     "metadata": {},
     "output_type": "execute_result"
    }
   ],
   "source": [
    "city = pd.MultiIndex.from_tuples(city_index)\n",
    "city"
   ]
  },
  {
   "cell_type": "code",
   "execution_count": 135,
   "metadata": {},
   "outputs": [
    {
     "data": {
      "text/plain": [
       "shanghai  2015    25300\n",
       "          2016    27466\n",
       "beijing   2015    23000\n",
       "          2016    24899\n",
       "dtype: int64"
      ]
     },
     "execution_count": 135,
     "metadata": {},
     "output_type": "execute_result"
    }
   ],
   "source": [
    "gdp_index = [(\"shanghai\", 2015), (\"shanghai\", 2016), (\"beijing\",2015),(\"beijing\", 2016)]\n",
    "gdp_mind = pd.MultiIndex.from_tuples(gdp_index)\n",
    "gdp = pd.Series([25300, 27466, 23000, 24899], index=gdp_mind)\n",
    "gdp"
   ]
  },
  {
   "cell_type": "code",
   "execution_count": 136,
   "metadata": {},
   "outputs": [
    {
     "data": {
      "text/plain": [
       "2015    25300\n",
       "2016    27466\n",
       "dtype: int64"
      ]
     },
     "execution_count": 136,
     "metadata": {},
     "output_type": "execute_result"
    }
   ],
   "source": [
    "gdp['shanghai']"
   ]
  },
  {
   "cell_type": "code",
   "execution_count": 137,
   "metadata": {},
   "outputs": [
    {
     "data": {
      "text/plain": [
       "27466"
      ]
     },
     "execution_count": 137,
     "metadata": {},
     "output_type": "execute_result"
    }
   ],
   "source": [
    "gdp.iloc[1]"
   ]
  },
  {
   "cell_type": "code",
   "execution_count": 140,
   "metadata": {},
   "outputs": [
    {
     "ename": "TypeError",
     "evalue": "cannot do slice indexing on <class 'pandas.core.indexes.base.Index'> with these indexers [1] of <class 'int'>",
     "output_type": "error",
     "traceback": [
      "\u001b[0;31m-----------------------------------------------------------------------\u001b[0m",
      "\u001b[0;31mTypeError\u001b[0m                             Traceback (most recent call last)",
      "\u001b[0;32m<ipython-input-140-38cf1e60d193>\u001b[0m in \u001b[0;36m<module>\u001b[0;34m\u001b[0m\n\u001b[0;32m----> 1\u001b[0;31m \u001b[0ms\u001b[0m\u001b[0;34m.\u001b[0m\u001b[0mloc\u001b[0m\u001b[0;34m[\u001b[0m\u001b[0;34m:\u001b[0m\u001b[0;36m1\u001b[0m\u001b[0;34m]\u001b[0m\u001b[0;34m\u001b[0m\u001b[0;34m\u001b[0m\u001b[0m\n\u001b[0m",
      "\u001b[0;32m/Library/Frameworks/Python.framework/Versions/3.7/lib/python3.7/site-packages/pandas/core/indexing.py\u001b[0m in \u001b[0;36m__getitem__\u001b[0;34m(self, key)\u001b[0m\n\u001b[1;32m   1476\u001b[0m \u001b[0;34m\u001b[0m\u001b[0m\n\u001b[1;32m   1477\u001b[0m             \u001b[0mmaybe_callable\u001b[0m \u001b[0;34m=\u001b[0m \u001b[0mcom\u001b[0m\u001b[0;34m.\u001b[0m\u001b[0m_apply_if_callable\u001b[0m\u001b[0;34m(\u001b[0m\u001b[0mkey\u001b[0m\u001b[0;34m,\u001b[0m \u001b[0mself\u001b[0m\u001b[0;34m.\u001b[0m\u001b[0mobj\u001b[0m\u001b[0;34m)\u001b[0m\u001b[0;34m\u001b[0m\u001b[0;34m\u001b[0m\u001b[0m\n\u001b[0;32m-> 1478\u001b[0;31m             \u001b[0;32mreturn\u001b[0m \u001b[0mself\u001b[0m\u001b[0;34m.\u001b[0m\u001b[0m_getitem_axis\u001b[0m\u001b[0;34m(\u001b[0m\u001b[0mmaybe_callable\u001b[0m\u001b[0;34m,\u001b[0m \u001b[0maxis\u001b[0m\u001b[0;34m=\u001b[0m\u001b[0maxis\u001b[0m\u001b[0;34m)\u001b[0m\u001b[0;34m\u001b[0m\u001b[0;34m\u001b[0m\u001b[0m\n\u001b[0m\u001b[1;32m   1479\u001b[0m \u001b[0;34m\u001b[0m\u001b[0m\n\u001b[1;32m   1480\u001b[0m     \u001b[0;32mdef\u001b[0m \u001b[0m_is_scalar_access\u001b[0m\u001b[0;34m(\u001b[0m\u001b[0mself\u001b[0m\u001b[0;34m,\u001b[0m \u001b[0mkey\u001b[0m\u001b[0;34m)\u001b[0m\u001b[0;34m:\u001b[0m\u001b[0;34m\u001b[0m\u001b[0;34m\u001b[0m\u001b[0m\n",
      "\u001b[0;32m/Library/Frameworks/Python.framework/Versions/3.7/lib/python3.7/site-packages/pandas/core/indexing.py\u001b[0m in \u001b[0;36m_getitem_axis\u001b[0;34m(self, key, axis)\u001b[0m\n\u001b[1;32m   1864\u001b[0m         \u001b[0;32mif\u001b[0m \u001b[0misinstance\u001b[0m\u001b[0;34m(\u001b[0m\u001b[0mkey\u001b[0m\u001b[0;34m,\u001b[0m \u001b[0mslice\u001b[0m\u001b[0;34m)\u001b[0m\u001b[0;34m:\u001b[0m\u001b[0;34m\u001b[0m\u001b[0;34m\u001b[0m\u001b[0m\n\u001b[1;32m   1865\u001b[0m             \u001b[0mself\u001b[0m\u001b[0;34m.\u001b[0m\u001b[0m_validate_key\u001b[0m\u001b[0;34m(\u001b[0m\u001b[0mkey\u001b[0m\u001b[0;34m,\u001b[0m \u001b[0maxis\u001b[0m\u001b[0;34m)\u001b[0m\u001b[0;34m\u001b[0m\u001b[0;34m\u001b[0m\u001b[0m\n\u001b[0;32m-> 1866\u001b[0;31m             \u001b[0;32mreturn\u001b[0m \u001b[0mself\u001b[0m\u001b[0;34m.\u001b[0m\u001b[0m_get_slice_axis\u001b[0m\u001b[0;34m(\u001b[0m\u001b[0mkey\u001b[0m\u001b[0;34m,\u001b[0m \u001b[0maxis\u001b[0m\u001b[0;34m=\u001b[0m\u001b[0maxis\u001b[0m\u001b[0;34m)\u001b[0m\u001b[0;34m\u001b[0m\u001b[0;34m\u001b[0m\u001b[0m\n\u001b[0m\u001b[1;32m   1867\u001b[0m         \u001b[0;32melif\u001b[0m \u001b[0mcom\u001b[0m\u001b[0;34m.\u001b[0m\u001b[0mis_bool_indexer\u001b[0m\u001b[0;34m(\u001b[0m\u001b[0mkey\u001b[0m\u001b[0;34m)\u001b[0m\u001b[0;34m:\u001b[0m\u001b[0;34m\u001b[0m\u001b[0;34m\u001b[0m\u001b[0m\n\u001b[1;32m   1868\u001b[0m             \u001b[0;32mreturn\u001b[0m \u001b[0mself\u001b[0m\u001b[0;34m.\u001b[0m\u001b[0m_getbool_axis\u001b[0m\u001b[0;34m(\u001b[0m\u001b[0mkey\u001b[0m\u001b[0;34m,\u001b[0m \u001b[0maxis\u001b[0m\u001b[0;34m=\u001b[0m\u001b[0maxis\u001b[0m\u001b[0;34m)\u001b[0m\u001b[0;34m\u001b[0m\u001b[0;34m\u001b[0m\u001b[0m\n",
      "\u001b[0;32m/Library/Frameworks/Python.framework/Versions/3.7/lib/python3.7/site-packages/pandas/core/indexing.py\u001b[0m in \u001b[0;36m_get_slice_axis\u001b[0;34m(self, slice_obj, axis)\u001b[0m\n\u001b[1;32m   1509\u001b[0m         \u001b[0mlabels\u001b[0m \u001b[0;34m=\u001b[0m \u001b[0mobj\u001b[0m\u001b[0;34m.\u001b[0m\u001b[0m_get_axis\u001b[0m\u001b[0;34m(\u001b[0m\u001b[0maxis\u001b[0m\u001b[0;34m)\u001b[0m\u001b[0;34m\u001b[0m\u001b[0;34m\u001b[0m\u001b[0m\n\u001b[1;32m   1510\u001b[0m         indexer = labels.slice_indexer(slice_obj.start, slice_obj.stop,\n\u001b[0;32m-> 1511\u001b[0;31m                                        slice_obj.step, kind=self.name)\n\u001b[0m\u001b[1;32m   1512\u001b[0m \u001b[0;34m\u001b[0m\u001b[0m\n\u001b[1;32m   1513\u001b[0m         \u001b[0;32mif\u001b[0m \u001b[0misinstance\u001b[0m\u001b[0;34m(\u001b[0m\u001b[0mindexer\u001b[0m\u001b[0;34m,\u001b[0m \u001b[0mslice\u001b[0m\u001b[0;34m)\u001b[0m\u001b[0;34m:\u001b[0m\u001b[0;34m\u001b[0m\u001b[0;34m\u001b[0m\u001b[0m\n",
      "\u001b[0;32m/Library/Frameworks/Python.framework/Versions/3.7/lib/python3.7/site-packages/pandas/core/indexes/base.py\u001b[0m in \u001b[0;36mslice_indexer\u001b[0;34m(self, start, end, step, kind)\u001b[0m\n\u001b[1;32m   4105\u001b[0m         \"\"\"\n\u001b[1;32m   4106\u001b[0m         start_slice, end_slice = self.slice_locs(start, end, step=step,\n\u001b[0;32m-> 4107\u001b[0;31m                                                  kind=kind)\n\u001b[0m\u001b[1;32m   4108\u001b[0m \u001b[0;34m\u001b[0m\u001b[0m\n\u001b[1;32m   4109\u001b[0m         \u001b[0;31m# return a slice\u001b[0m\u001b[0;34m\u001b[0m\u001b[0;34m\u001b[0m\u001b[0;34m\u001b[0m\u001b[0m\n",
      "\u001b[0;32m/Library/Frameworks/Python.framework/Versions/3.7/lib/python3.7/site-packages/pandas/core/indexes/base.py\u001b[0m in \u001b[0;36mslice_locs\u001b[0;34m(self, start, end, step, kind)\u001b[0m\n\u001b[1;32m   4312\u001b[0m         \u001b[0mend_slice\u001b[0m \u001b[0;34m=\u001b[0m \u001b[0;32mNone\u001b[0m\u001b[0;34m\u001b[0m\u001b[0;34m\u001b[0m\u001b[0m\n\u001b[1;32m   4313\u001b[0m         \u001b[0;32mif\u001b[0m \u001b[0mend\u001b[0m \u001b[0;32mis\u001b[0m \u001b[0;32mnot\u001b[0m \u001b[0;32mNone\u001b[0m\u001b[0;34m:\u001b[0m\u001b[0;34m\u001b[0m\u001b[0;34m\u001b[0m\u001b[0m\n\u001b[0;32m-> 4314\u001b[0;31m             \u001b[0mend_slice\u001b[0m \u001b[0;34m=\u001b[0m \u001b[0mself\u001b[0m\u001b[0;34m.\u001b[0m\u001b[0mget_slice_bound\u001b[0m\u001b[0;34m(\u001b[0m\u001b[0mend\u001b[0m\u001b[0;34m,\u001b[0m \u001b[0;34m'right'\u001b[0m\u001b[0;34m,\u001b[0m \u001b[0mkind\u001b[0m\u001b[0;34m)\u001b[0m\u001b[0;34m\u001b[0m\u001b[0;34m\u001b[0m\u001b[0m\n\u001b[0m\u001b[1;32m   4315\u001b[0m         \u001b[0;32mif\u001b[0m \u001b[0mend_slice\u001b[0m \u001b[0;32mis\u001b[0m \u001b[0;32mNone\u001b[0m\u001b[0;34m:\u001b[0m\u001b[0;34m\u001b[0m\u001b[0;34m\u001b[0m\u001b[0m\n\u001b[1;32m   4316\u001b[0m             \u001b[0mend_slice\u001b[0m \u001b[0;34m=\u001b[0m \u001b[0mlen\u001b[0m\u001b[0;34m(\u001b[0m\u001b[0mself\u001b[0m\u001b[0;34m)\u001b[0m\u001b[0;34m\u001b[0m\u001b[0;34m\u001b[0m\u001b[0m\n",
      "\u001b[0;32m/Library/Frameworks/Python.framework/Versions/3.7/lib/python3.7/site-packages/pandas/core/indexes/base.py\u001b[0m in \u001b[0;36mget_slice_bound\u001b[0;34m(self, label, side, kind)\u001b[0m\n\u001b[1;32m   4232\u001b[0m         \u001b[0;31m# For datetime indices label may be a string that has to be converted\u001b[0m\u001b[0;34m\u001b[0m\u001b[0;34m\u001b[0m\u001b[0;34m\u001b[0m\u001b[0m\n\u001b[1;32m   4233\u001b[0m         \u001b[0;31m# to datetime boundary according to its resolution.\u001b[0m\u001b[0;34m\u001b[0m\u001b[0;34m\u001b[0m\u001b[0;34m\u001b[0m\u001b[0m\n\u001b[0;32m-> 4234\u001b[0;31m         \u001b[0mlabel\u001b[0m \u001b[0;34m=\u001b[0m \u001b[0mself\u001b[0m\u001b[0;34m.\u001b[0m\u001b[0m_maybe_cast_slice_bound\u001b[0m\u001b[0;34m(\u001b[0m\u001b[0mlabel\u001b[0m\u001b[0;34m,\u001b[0m \u001b[0mside\u001b[0m\u001b[0;34m,\u001b[0m \u001b[0mkind\u001b[0m\u001b[0;34m)\u001b[0m\u001b[0;34m\u001b[0m\u001b[0;34m\u001b[0m\u001b[0m\n\u001b[0m\u001b[1;32m   4235\u001b[0m \u001b[0;34m\u001b[0m\u001b[0m\n\u001b[1;32m   4236\u001b[0m         \u001b[0;31m# we need to look up the label\u001b[0m\u001b[0;34m\u001b[0m\u001b[0;34m\u001b[0m\u001b[0;34m\u001b[0m\u001b[0m\n",
      "\u001b[0;32m/Library/Frameworks/Python.framework/Versions/3.7/lib/python3.7/site-packages/pandas/core/indexes/base.py\u001b[0m in \u001b[0;36m_maybe_cast_slice_bound\u001b[0;34m(self, label, side, kind)\u001b[0m\n\u001b[1;32m   4183\u001b[0m         \u001b[0;31m# this is rejected (generally .loc gets you here)\u001b[0m\u001b[0;34m\u001b[0m\u001b[0;34m\u001b[0m\u001b[0;34m\u001b[0m\u001b[0m\n\u001b[1;32m   4184\u001b[0m         \u001b[0;32melif\u001b[0m \u001b[0mis_integer\u001b[0m\u001b[0;34m(\u001b[0m\u001b[0mlabel\u001b[0m\u001b[0;34m)\u001b[0m\u001b[0;34m:\u001b[0m\u001b[0;34m\u001b[0m\u001b[0;34m\u001b[0m\u001b[0m\n\u001b[0;32m-> 4185\u001b[0;31m             \u001b[0mself\u001b[0m\u001b[0;34m.\u001b[0m\u001b[0m_invalid_indexer\u001b[0m\u001b[0;34m(\u001b[0m\u001b[0;34m'slice'\u001b[0m\u001b[0;34m,\u001b[0m \u001b[0mlabel\u001b[0m\u001b[0;34m)\u001b[0m\u001b[0;34m\u001b[0m\u001b[0;34m\u001b[0m\u001b[0m\n\u001b[0m\u001b[1;32m   4186\u001b[0m \u001b[0;34m\u001b[0m\u001b[0m\n\u001b[1;32m   4187\u001b[0m         \u001b[0;32mreturn\u001b[0m \u001b[0mlabel\u001b[0m\u001b[0;34m\u001b[0m\u001b[0;34m\u001b[0m\u001b[0m\n",
      "\u001b[0;32m/Library/Frameworks/Python.framework/Versions/3.7/lib/python3.7/site-packages/pandas/core/indexes/base.py\u001b[0m in \u001b[0;36m_invalid_indexer\u001b[0;34m(self, form, key)\u001b[0m\n\u001b[1;32m   1861\u001b[0m                         \"indexers [{key}] of {kind}\".format(\n\u001b[1;32m   1862\u001b[0m                             \u001b[0mform\u001b[0m\u001b[0;34m=\u001b[0m\u001b[0mform\u001b[0m\u001b[0;34m,\u001b[0m \u001b[0mklass\u001b[0m\u001b[0;34m=\u001b[0m\u001b[0mtype\u001b[0m\u001b[0;34m(\u001b[0m\u001b[0mself\u001b[0m\u001b[0;34m)\u001b[0m\u001b[0;34m,\u001b[0m \u001b[0mkey\u001b[0m\u001b[0;34m=\u001b[0m\u001b[0mkey\u001b[0m\u001b[0;34m,\u001b[0m\u001b[0;34m\u001b[0m\u001b[0;34m\u001b[0m\u001b[0m\n\u001b[0;32m-> 1863\u001b[0;31m                             kind=type(key)))\n\u001b[0m\u001b[1;32m   1864\u001b[0m \u001b[0;34m\u001b[0m\u001b[0m\n\u001b[1;32m   1865\u001b[0m     \u001b[0;32mdef\u001b[0m \u001b[0mget_duplicates\u001b[0m\u001b[0;34m(\u001b[0m\u001b[0mself\u001b[0m\u001b[0;34m)\u001b[0m\u001b[0;34m:\u001b[0m\u001b[0;34m\u001b[0m\u001b[0;34m\u001b[0m\u001b[0m\n",
      "\u001b[0;31mTypeError\u001b[0m: cannot do slice indexing on <class 'pandas.core.indexes.base.Index'> with these indexers [1] of <class 'int'>"
     ]
    }
   ],
   "source": [
    "s.loc[:1]"
   ]
  },
  {
   "cell_type": "code",
   "execution_count": 143,
   "metadata": {},
   "outputs": [
    {
     "data": {
      "text/plain": [
       "world\n",
       "b    3\n",
       "Name: hello, dtype: int64"
      ]
     },
     "execution_count": 143,
     "metadata": {},
     "output_type": "execute_result"
    }
   ],
   "source": [
    "s.iloc[1:2]"
   ]
  },
  {
   "cell_type": "code",
   "execution_count": 144,
   "metadata": {},
   "outputs": [
    {
     "name": "stdout",
     "output_type": "stream",
     "text": [
      "README.md         first_program.py  guess.py          person.py\r\n",
      "aliquot.py        forth.ipynb       myfile.txt        third.ipynb\r\n",
      "fibs.py           forth_ready.ipynb myfunc.py\r\n"
     ]
    }
   ],
   "source": []
  },
  {
   "cell_type": "code",
   "execution_count": 145,
   "metadata": {},
   "outputs": [
    {
     "data": {
      "text/html": [
       "<div>\n",
       "<style scoped>\n",
       "    .dataframe tbody tr th:only-of-type {\n",
       "        vertical-align: middle;\n",
       "    }\n",
       "\n",
       "    .dataframe tbody tr th {\n",
       "        vertical-align: top;\n",
       "    }\n",
       "\n",
       "    .dataframe thead th {\n",
       "        text-align: right;\n",
       "    }\n",
       "</style>\n",
       "<table border=\"1\" class=\"dataframe\">\n",
       "  <thead>\n",
       "    <tr style=\"text-align: right;\">\n",
       "      <th></th>\n",
       "      <th>City_Name</th>\n",
       "      <th>GDP</th>\n",
       "      <th>Population</th>\n",
       "    </tr>\n",
       "  </thead>\n",
       "  <tbody>\n",
       "    <tr>\n",
       "      <th>0</th>\n",
       "      <td>SHANGHAI</td>\n",
       "      <td>27466.15</td>\n",
       "      <td>2419.70</td>\n",
       "    </tr>\n",
       "    <tr>\n",
       "      <th>1</th>\n",
       "      <td>BEIJING</td>\n",
       "      <td>24899.30</td>\n",
       "      <td>2172.90</td>\n",
       "    </tr>\n",
       "    <tr>\n",
       "      <th>2</th>\n",
       "      <td>GUANGZHOU</td>\n",
       "      <td>19610.90</td>\n",
       "      <td>1350.11</td>\n",
       "    </tr>\n",
       "    <tr>\n",
       "      <th>3</th>\n",
       "      <td>SHENZHEN</td>\n",
       "      <td>19492.60</td>\n",
       "      <td>1137.87</td>\n",
       "    </tr>\n",
       "    <tr>\n",
       "      <th>4</th>\n",
       "      <td>TIANJIN</td>\n",
       "      <td>17885.39</td>\n",
       "      <td>1562.12</td>\n",
       "    </tr>\n",
       "    <tr>\n",
       "      <th>5</th>\n",
       "      <td>CHONGQING</td>\n",
       "      <td>17558.76</td>\n",
       "      <td>3016.55</td>\n",
       "    </tr>\n",
       "    <tr>\n",
       "      <th>6</th>\n",
       "      <td>SUZHOU</td>\n",
       "      <td>15475.09</td>\n",
       "      <td>1375.00</td>\n",
       "    </tr>\n",
       "    <tr>\n",
       "      <th>7</th>\n",
       "      <td>CHENGDU</td>\n",
       "      <td>12170.20</td>\n",
       "      <td>1591.76</td>\n",
       "    </tr>\n",
       "  </tbody>\n",
       "</table>\n",
       "</div>"
      ],
      "text/plain": [
       "   City_Name       GDP  Population\n",
       "0   SHANGHAI  27466.15     2419.70\n",
       "1    BEIJING  24899.30     2172.90\n",
       "2  GUANGZHOU  19610.90     1350.11\n",
       "3   SHENZHEN  19492.60     1137.87\n",
       "4    TIANJIN  17885.39     1562.12\n",
       "5  CHONGQING  17558.76     3016.55\n",
       "6     SUZHOU  15475.09     1375.00\n",
       "7    CHENGDU  12170.20     1591.76"
      ]
     },
     "execution_count": 145,
     "metadata": {},
     "output_type": "execute_result"
    }
   ],
   "source": [
    "pop = pd.read_csv(\"/Users/qiwsir/Documents/Codes/DataSet/gdppop/gdp-population.csv\")\n",
    "pop"
   ]
  },
  {
   "cell_type": "code",
   "execution_count": 146,
   "metadata": {},
   "outputs": [],
   "source": [
    "pd.read_csv?"
   ]
  },
  {
   "cell_type": "code",
   "execution_count": null,
   "metadata": {},
   "outputs": [],
   "source": []
  }
 ],
 "metadata": {
  "kernelspec": {
   "display_name": "Python 3",
   "language": "python",
   "name": "python3"
  },
  "language_info": {
   "codemirror_mode": {
    "name": "ipython",
    "version": 3
   },
   "file_extension": ".py",
   "mimetype": "text/x-python",
   "name": "python",
   "nbconvert_exporter": "python",
   "pygments_lexer": "ipython3",
   "version": "3.7.1"
  }
 },
 "nbformat": 4,
 "nbformat_minor": 2
}
